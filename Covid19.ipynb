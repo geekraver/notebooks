{
 "cells": [
  {
   "cell_type": "markdown",
   "metadata": {},
   "source": [
    "# Covid19 Investigation\n",
    "\n",
    "Set some key parameters:"
   ]
  },
  {
   "cell_type": "code",
   "execution_count": 43,
   "metadata": {},
   "outputs": [],
   "source": [
    "mortality_rate = 8  # In %; see near the end for how I determined this\n",
    "days_to_first_symptom = 5 # 5.4 days is the average value I have seen cited\n",
    "days_from_first_symptom_to_death = 14  # again, the average"
   ]
  },
  {
   "cell_type": "markdown",
   "metadata": {},
   "source": [
    "Import dependencies:"
   ]
  },
  {
   "cell_type": "code",
   "execution_count": 44,
   "metadata": {},
   "outputs": [],
   "source": [
    "from datetime import date, datetime, timedelta\n",
    "import os\n",
    "import numpy as np\n",
    "import pandas as pd\n",
    "from pandas.plotting import register_matplotlib_converters\n",
    "import matplotlib.pyplot as plt \n",
    "import matplotlib.dates as dates\n",
    "import ipywidgets as widgets\n",
    "from scipy.optimize import curve_fit\n",
    "\n",
    "\n",
    "register_matplotlib_converters()\n",
    "%matplotlib inline"
   ]
  },
  {
   "cell_type": "markdown",
   "metadata": {},
   "source": [
    "Fetch the latest updated data from the Johns Hopkins repo."
   ]
  },
  {
   "cell_type": "code",
   "execution_count": 45,
   "metadata": {},
   "outputs": [],
   "source": [
    "df = None\n",
    "last = datetime.now() - timedelta(hours=1)\n",
    "\n",
    "\n",
    "def get_data():\n",
    "    \"\"\"\n",
    "    Get the latest data. Just return the cached copy\n",
    "    if less than one hour has elapsed.\n",
    "    \"\"\"\n",
    "    global last, df\n",
    "    now = datetime.now()\n",
    "    if df and now - last < timedelta(hours=1):\n",
    "        print('Using cached copy')\n",
    "        return df\n",
    "\n",
    "    if not os.path.exists('csse_covid_19_daily_reports'):\n",
    "        os.mkdir('csse_covid_19_daily_reports')\n",
    "        \n",
    "    last = now    \n",
    "    start = date(2020, 1, 22)\n",
    "    end = date.today()\n",
    "\n",
    "    df = pd.DataFrame()\n",
    "    while start <= end:\n",
    "        try:\n",
    "            which = f'csse_covid_19_daily_reports/{start.month:02d}-{start.day:02d}-{start.year}.csv'\n",
    "            if os.path.exists(which):\n",
    "                df_day = pd.read_csv(which)\n",
    "            else:\n",
    "                df_day = pd.read_csv(f'https://raw.githubusercontent.com/CSSEGISandData/COVID-19/master/csse_covid_19_data/{which}')\n",
    "                df_day.to_csv(which)\n",
    "            df_day['Date'] = start\n",
    "            if 'Country_Region' in df_day.columns:\n",
    "                df_day = df_day.rename(columns={'Country_Region': 'Country/Region', 'Province_State': 'Province/State'})\n",
    "            df = df.append(df_day)\n",
    "        except Exception as e:\n",
    "            print(f'{start}: {e}')\n",
    "        start += timedelta(days=1)\n",
    "    \n",
    "    del df['Last Update']\n",
    "    df = df.replace({'Country/Region': {'Mainland China': 'China'}})\n",
    "    df.fillna({'Province/State': ''}, inplace=True)\n",
    "    for col in ['Confirmed', 'Deaths', 'Recovered']:\n",
    "        df.fillna({col: 0}, inplace=True)\n",
    "    return df"
   ]
  },
  {
   "cell_type": "code",
   "execution_count": 46,
   "metadata": {},
   "outputs": [
    {
     "data": {
      "text/html": [
       "<div>\n",
       "<style scoped>\n",
       "    .dataframe tbody tr th:only-of-type {\n",
       "        vertical-align: middle;\n",
       "    }\n",
       "\n",
       "    .dataframe tbody tr th {\n",
       "        vertical-align: top;\n",
       "    }\n",
       "\n",
       "    .dataframe thead th {\n",
       "        text-align: right;\n",
       "    }\n",
       "</style>\n",
       "<table border=\"1\" class=\"dataframe\">\n",
       "  <thead>\n",
       "    <tr style=\"text-align: right;\">\n",
       "      <th></th>\n",
       "      <th>Active</th>\n",
       "      <th>Admin2</th>\n",
       "      <th>Combined_Key</th>\n",
       "      <th>Confirmed</th>\n",
       "      <th>Country/Region</th>\n",
       "      <th>Date</th>\n",
       "      <th>Deaths</th>\n",
       "      <th>FIPS</th>\n",
       "      <th>Last_Update</th>\n",
       "      <th>Lat</th>\n",
       "      <th>Latitude</th>\n",
       "      <th>Long_</th>\n",
       "      <th>Longitude</th>\n",
       "      <th>Province/State</th>\n",
       "      <th>Recovered</th>\n",
       "      <th>Unnamed: 0</th>\n",
       "    </tr>\n",
       "  </thead>\n",
       "  <tbody>\n",
       "    <tr>\n",
       "      <th>3425</th>\n",
       "      <td>78.0</td>\n",
       "      <td>NaN</td>\n",
       "      <td>Venezuela</td>\n",
       "      <td>119.0</td>\n",
       "      <td>Venezuela</td>\n",
       "      <td>2020-03-28</td>\n",
       "      <td>2.0</td>\n",
       "      <td>NaN</td>\n",
       "      <td>2020-03-28 23:05:25</td>\n",
       "      <td>6.423800</td>\n",
       "      <td>NaN</td>\n",
       "      <td>-66.589700</td>\n",
       "      <td>NaN</td>\n",
       "      <td></td>\n",
       "      <td>39.0</td>\n",
       "      <td>3425</td>\n",
       "    </tr>\n",
       "    <tr>\n",
       "      <th>3426</th>\n",
       "      <td>153.0</td>\n",
       "      <td>NaN</td>\n",
       "      <td>Vietnam</td>\n",
       "      <td>174.0</td>\n",
       "      <td>Vietnam</td>\n",
       "      <td>2020-03-28</td>\n",
       "      <td>0.0</td>\n",
       "      <td>NaN</td>\n",
       "      <td>2020-03-28 23:05:25</td>\n",
       "      <td>14.058324</td>\n",
       "      <td>NaN</td>\n",
       "      <td>108.277199</td>\n",
       "      <td>NaN</td>\n",
       "      <td></td>\n",
       "      <td>21.0</td>\n",
       "      <td>3426</td>\n",
       "    </tr>\n",
       "    <tr>\n",
       "      <th>3427</th>\n",
       "      <td>79.0</td>\n",
       "      <td>NaN</td>\n",
       "      <td>West Bank and Gaza</td>\n",
       "      <td>98.0</td>\n",
       "      <td>West Bank and Gaza</td>\n",
       "      <td>2020-03-28</td>\n",
       "      <td>1.0</td>\n",
       "      <td>NaN</td>\n",
       "      <td>2020-03-28 23:05:25</td>\n",
       "      <td>31.952200</td>\n",
       "      <td>NaN</td>\n",
       "      <td>35.233200</td>\n",
       "      <td>NaN</td>\n",
       "      <td></td>\n",
       "      <td>18.0</td>\n",
       "      <td>3427</td>\n",
       "    </tr>\n",
       "    <tr>\n",
       "      <th>3428</th>\n",
       "      <td>28.0</td>\n",
       "      <td>NaN</td>\n",
       "      <td>Zambia</td>\n",
       "      <td>28.0</td>\n",
       "      <td>Zambia</td>\n",
       "      <td>2020-03-28</td>\n",
       "      <td>0.0</td>\n",
       "      <td>NaN</td>\n",
       "      <td>2020-03-28 23:05:25</td>\n",
       "      <td>-13.133897</td>\n",
       "      <td>NaN</td>\n",
       "      <td>27.849332</td>\n",
       "      <td>NaN</td>\n",
       "      <td></td>\n",
       "      <td>0.0</td>\n",
       "      <td>3428</td>\n",
       "    </tr>\n",
       "    <tr>\n",
       "      <th>3429</th>\n",
       "      <td>6.0</td>\n",
       "      <td>NaN</td>\n",
       "      <td>Zimbabwe</td>\n",
       "      <td>7.0</td>\n",
       "      <td>Zimbabwe</td>\n",
       "      <td>2020-03-28</td>\n",
       "      <td>1.0</td>\n",
       "      <td>NaN</td>\n",
       "      <td>2020-03-28 23:05:25</td>\n",
       "      <td>-19.015438</td>\n",
       "      <td>NaN</td>\n",
       "      <td>29.154857</td>\n",
       "      <td>NaN</td>\n",
       "      <td></td>\n",
       "      <td>0.0</td>\n",
       "      <td>3429</td>\n",
       "    </tr>\n",
       "  </tbody>\n",
       "</table>\n",
       "</div>"
      ],
      "text/plain": [
       "      Active Admin2        Combined_Key  Confirmed      Country/Region  \\\n",
       "3425    78.0    NaN           Venezuela      119.0           Venezuela   \n",
       "3426   153.0    NaN             Vietnam      174.0             Vietnam   \n",
       "3427    79.0    NaN  West Bank and Gaza       98.0  West Bank and Gaza   \n",
       "3428    28.0    NaN              Zambia       28.0              Zambia   \n",
       "3429     6.0    NaN            Zimbabwe        7.0            Zimbabwe   \n",
       "\n",
       "            Date  Deaths  FIPS          Last_Update        Lat  Latitude  \\\n",
       "3425  2020-03-28     2.0   NaN  2020-03-28 23:05:25   6.423800       NaN   \n",
       "3426  2020-03-28     0.0   NaN  2020-03-28 23:05:25  14.058324       NaN   \n",
       "3427  2020-03-28     1.0   NaN  2020-03-28 23:05:25  31.952200       NaN   \n",
       "3428  2020-03-28     0.0   NaN  2020-03-28 23:05:25 -13.133897       NaN   \n",
       "3429  2020-03-28     1.0   NaN  2020-03-28 23:05:25 -19.015438       NaN   \n",
       "\n",
       "           Long_  Longitude Province/State  Recovered  Unnamed: 0  \n",
       "3425  -66.589700        NaN                      39.0        3425  \n",
       "3426  108.277199        NaN                      21.0        3426  \n",
       "3427   35.233200        NaN                      18.0        3427  \n",
       "3428   27.849332        NaN                       0.0        3428  \n",
       "3429   29.154857        NaN                       0.0        3429  "
      ]
     },
     "execution_count": 46,
     "metadata": {},
     "output_type": "execute_result"
    }
   ],
   "source": [
    "df = get_data()\n",
    "df.tail(5)"
   ]
  },
  {
   "cell_type": "markdown",
   "metadata": {},
   "source": [
    "Because the JH data is split by sub-regions (Province/State) we need to be able to aggregate it for countries. We also want to be able to handle it as either \"daily new\" or \"cumulative\". The helper function below can do this for us."
   ]
  },
  {
   "cell_type": "code",
   "execution_count": 47,
   "metadata": {},
   "outputs": [],
   "source": [
    "def aggregate_for_locations(df, locations, sub_locs=None, do_diffs=True, fields=None):\n",
    "    if fields is None:\n",
    "        fields = ['Confirmed', 'Deaths', 'Recovered']\n",
    "    cols = ['Date']\n",
    "    cols.extend(fields)\n",
    "    \n",
    "    if isinstance(locations, str):\n",
    "        locations = [locations]\n",
    "        \n",
    "    if sub_locs:\n",
    "        in_loc = df[(df['Country/Region'].isin(locations)) & (df['Province/State'].isin(sub_locs))]\n",
    "    else:\n",
    "        in_loc = df[df['Country/Region'].isin(locations)]\n",
    "        \n",
    "    result = in_loc[cols].groupby('Date').sum()\n",
    "    \n",
    "    if do_diffs:\n",
    "        for f in fields:\n",
    "            result[f] = result[f].diff()\n",
    "            result.fillna({f: 0}, inplace=True)\n",
    "    return result\n"
   ]
  },
  {
   "cell_type": "markdown",
   "metadata": {},
   "source": [
    "Helper function to plot a time series chart:"
   ]
  },
  {
   "cell_type": "code",
   "execution_count": 48,
   "metadata": {},
   "outputs": [],
   "source": [
    "def plot_time_series(df, title):\n",
    "    fig, ax = plt.subplots()\n",
    "    ax.plot_date(df.index, df, 'v-')\n",
    "    ax.xaxis.set_minor_locator(dates.WeekdayLocator(byweekday=(1), interval=1))\n",
    "    ax.xaxis.set_minor_formatter(dates.DateFormatter('%d\\n%a'))\n",
    "    ax.xaxis.grid(True, which=\"minor\")\n",
    "    ax.yaxis.grid()\n",
    "    ax.xaxis.set_major_locator(dates.MonthLocator())\n",
    "    ax.xaxis.set_major_formatter(dates.DateFormatter('\\n\\n\\n%b\\n%Y'))\n",
    "    ax.legend(df.columns, loc='upper left', shadow=True)\n",
    "    ax.set_title(title)\n",
    "    plt.tight_layout()\n",
    "    return plt"
   ]
  },
  {
   "cell_type": "markdown",
   "metadata": {},
   "source": [
    "Get the set of possible Country/Region values:"
   ]
  },
  {
   "cell_type": "code",
   "execution_count": 49,
   "metadata": {},
   "outputs": [],
   "source": [
    "locations = sorted(list(df['Country/Region'].unique()))"
   ]
  },
  {
   "cell_type": "markdown",
   "metadata": {},
   "source": [
    "We have one chart that lets us drill down into US states so we need the list of those. In some cases the data is broken into cities/counties, so we build up a dictionary of state abbreviations to the set of locations used for that state:"
   ]
  },
  {
   "cell_type": "code",
   "execution_count": 50,
   "metadata": {},
   "outputs": [],
   "source": [
    "states = {\n",
    "    'AL': ['Alabama'],\n",
    "    'AK': ['Alaska'],\n",
    "    'AZ': ['Arizona'],\n",
    "    'AR': ['Arkansas'],\n",
    "    'CA': ['California'],\n",
    "    'CO': ['Colorado'],\n",
    "    'CT': ['Connecticut'],\n",
    "    'D.C.': ['District of Columbia'],\n",
    "    'DE': ['Delaware'],\n",
    "    'FL': ['Florida'],\n",
    "    'GA': ['Georgia'],\n",
    "    'HI': ['Hawaii'],\n",
    "    'ID': ['Idaho'],\n",
    "    'IL': ['Illinois'],\n",
    "    'IN': ['Indiana'],\n",
    "    'IA': ['Iowa'],\n",
    "    'KS': ['Kansas'],\n",
    "    'KY': ['Kentucky'],\n",
    "    'LA': ['Louisiana'],\n",
    "    'ME': ['Maine'],\n",
    "    'MD': ['Maryland'],\n",
    "    'MA': ['Massachusetts'],\n",
    "    'MI': ['Michigan'],\n",
    "    'MN': ['Minnesota'],\n",
    "    'MS': ['Mississippi'],\n",
    "    'MO': ['Missouri'],\n",
    "    'MT': ['Montana'],\n",
    "    'NE': ['Nebraska'],\n",
    "    'NV': ['Nevada'],\n",
    "    'NH': ['New Hampshire'],\n",
    "    'NJ': ['New Jersey'],\n",
    "    'NM': ['New Mexico'],\n",
    "    'NY': ['New York'],\n",
    "    'NC': ['North Carolina'],\n",
    "    'ND': ['North Dakota'],\n",
    "    'OH': ['Ohio'],\n",
    "    'OK': ['Oklahoma'],\n",
    "    'OR': ['Oregon'],\n",
    "    'PA': ['Pennsylvania'],\n",
    "    'PR': ['Puerto Rico'],\n",
    "    'RI': ['Rhode Island'],\n",
    "    'SC': ['South Carolina'],\n",
    "    'SD': ['South Dakota'],\n",
    "    'TN': ['Tennessee'],\n",
    "    'TX': ['Texas'],\n",
    "    'UT': ['Utah'],\n",
    "    'VT': ['Vermont'],\n",
    "    'VA': ['Virginia'],\n",
    "    'WA': ['Washington'],\n",
    "    'WV': ['West Virginia'],\n",
    "    'WI': ['Wisconsin'],\n",
    "    'WY': ['Wyoming'],\n",
    "    'U.S.': [] # other territories\n",
    "}\n",
    "\n",
    "# Extend the above with all the counties/cities that were broken out separately\n",
    "for s in df[df['Country/Region'] == 'US']['Province/State'].unique():\n",
    "    i = s.find(',')\n",
    "    if i < 0:\n",
    "        continue\n",
    "    st = s[i+2:i+5].strip()\n",
    "    if st not in states:\n",
    "        st += '.'\n",
    "        if st not in states:\n",
    "            print(f'Failed with {s}/{st}')\n",
    "            continue\n",
    "    states[st].append(s)\n"
   ]
  },
  {
   "cell_type": "markdown",
   "metadata": {},
   "source": [
    "Create a country multi-picker:"
   ]
  },
  {
   "cell_type": "code",
   "execution_count": 51,
   "metadata": {},
   "outputs": [],
   "source": [
    "picker = widgets.SelectMultiple(\n",
    "                        options=locations,\n",
    "                        value=['US'],\n",
    "                        description='Locations'\n",
    "                )"
   ]
  },
  {
   "cell_type": "markdown",
   "metadata": {},
   "source": [
    "Our first interactive chart is for one or more countries, cumulative cases:"
   ]
  },
  {
   "cell_type": "code",
   "execution_count": 52,
   "metadata": {},
   "outputs": [
    {
     "data": {
      "application/vnd.jupyter.widget-view+json": {
       "model_id": "2a6b9197dc48405ea809d75dfcd7cd56",
       "version_major": 2,
       "version_minor": 0
      },
      "text/plain": [
       "interactive(children=(SelectMultiple(description='Locations', index=(211,), options=(' Azerbaijan', 'Afghanist…"
      ]
     },
     "metadata": {},
     "output_type": "display_data"
    },
    {
     "data": {
      "text/plain": [
       "<function __main__.<lambda>(Location)>"
      ]
     },
     "execution_count": 52,
     "metadata": {},
     "output_type": "execute_result"
    }
   ],
   "source": [
    "widgets.interact(lambda Location: plot_time_series(aggregate_for_locations(df, Location, do_diffs=False), \n",
    "                                                   title=f'{\" \".join(Location)}: Cumulative'),\n",
    "                 Location=picker)"
   ]
  },
  {
   "cell_type": "markdown",
   "metadata": {},
   "source": [
    "As above, but new cases rather than cumulative:"
   ]
  },
  {
   "cell_type": "code",
   "execution_count": 53,
   "metadata": {},
   "outputs": [
    {
     "data": {
      "application/vnd.jupyter.widget-view+json": {
       "model_id": "1510f8255f894dc587ec44e23da2a196",
       "version_major": 2,
       "version_minor": 0
      },
      "text/plain": [
       "interactive(children=(SelectMultiple(description='Locations', index=(211,), options=(' Azerbaijan', 'Afghanist…"
      ]
     },
     "metadata": {},
     "output_type": "display_data"
    },
    {
     "data": {
      "text/plain": [
       "<function __main__.<lambda>(Location)>"
      ]
     },
     "execution_count": 53,
     "metadata": {},
     "output_type": "execute_result"
    }
   ],
   "source": [
    "widgets.interact(lambda Location: plot_time_series(aggregate_for_locations(df, Location), \n",
    "                                                   title=f'{\" \".join(Location)}: New'),\n",
    "                 Location=picker)"
   ]
  },
  {
   "cell_type": "markdown",
   "metadata": {},
   "source": [
    "There are so many infections its hard to see the deaths, so pull those out separately:"
   ]
  },
  {
   "cell_type": "code",
   "execution_count": 54,
   "metadata": {},
   "outputs": [
    {
     "data": {
      "application/vnd.jupyter.widget-view+json": {
       "model_id": "0f4c054d6da94248abc8fb4414204c92",
       "version_major": 2,
       "version_minor": 0
      },
      "text/plain": [
       "interactive(children=(SelectMultiple(description='Locations', index=(211,), options=(' Azerbaijan', 'Afghanist…"
      ]
     },
     "metadata": {},
     "output_type": "display_data"
    },
    {
     "data": {
      "text/plain": [
       "<function __main__.<lambda>(Location)>"
      ]
     },
     "execution_count": 54,
     "metadata": {},
     "output_type": "execute_result"
    }
   ],
   "source": [
    "widgets.interact(lambda Location: plot_time_series(aggregate_for_locations(df, Location, fields=['Deaths']), \n",
    "                                                   title=f'{\" \".join(Location)}: New'),\n",
    "                 Location=picker)"
   ]
  },
  {
   "cell_type": "markdown",
   "metadata": {},
   "source": [
    "A chart for cumulative cases in different US states:"
   ]
  },
  {
   "cell_type": "code",
   "execution_count": 55,
   "metadata": {},
   "outputs": [
    {
     "data": {
      "application/vnd.jupyter.widget-view+json": {
       "model_id": "1249c46a92884413bd133e81df4b62c7",
       "version_major": 2,
       "version_minor": 0
      },
      "text/plain": [
       "interactive(children=(Select(description='States', index=48, options=('AL', 'AK', 'AZ', 'AR', 'CA', 'CO', 'CT'…"
      ]
     },
     "metadata": {},
     "output_type": "display_data"
    },
    {
     "data": {
      "text/plain": [
       "<function __main__.<lambda>(Location)>"
      ]
     },
     "execution_count": 55,
     "metadata": {},
     "output_type": "execute_result"
    }
   ],
   "source": [
    "picker2 = widgets.Select(\n",
    "                        options=states.keys(),\n",
    "                        value='WA',\n",
    "                        description='States'\n",
    "                )\n",
    "widgets.interact(lambda Location: plot_time_series(aggregate_for_locations(df, 'US', sub_locs=states[Location], do_diffs=False), \n",
    "                                                   title=f'{Location}: Cumulative'),\n",
    "                 Location=picker2)"
   ]
  },
  {
   "cell_type": "markdown",
   "metadata": {},
   "source": [
    "Now we use the reported deaths to try to infer the actual number infected. We first different curves to the death counts and use that to extrapolate:"
   ]
  },
  {
   "cell_type": "code",
   "execution_count": 56,
   "metadata": {},
   "outputs": [],
   "source": [
    "def exponential(x, a):\n",
    "    return a ** x\n",
    "\n",
    "\n",
    "def power(x, a):\n",
    "    return x ** a\n",
    "\n",
    "\n",
    "def sigmoid(x, L ,x0, k, b):\n",
    "    y = L / (1 + np.exp(-k*(x-x0)))+b\n",
    "    return (y)\n",
    "\n",
    "\n",
    "def sigmoid_init(x, y):\n",
    "    return [max(y), np.median(x), 1, min(y)] # initial guess\n",
    "\n",
    "\n",
    "# It takes on average 5 days to show symptoms. Typically 14 days from that to death.\n",
    "# So it seems reasonable to say that people infected on day x will die around day x + 19\n",
    "# So if we extrapolate the death rate by 15 days, we can approximate how many are infected \n",
    "# now after adjusting for fatality rate.\n",
    "\n",
    "def predict_from_death_rate(region=None, \n",
    "                            fatality_rate=mortality_rate, \n",
    "                            death_time=days_to_first_symptom+days_from_first_symptom_to_death, \n",
    "                            fn=exponential, \n",
    "                            init=None):\n",
    "    if region is None:\n",
    "        region = 'US'\n",
    "        \n",
    "    deaths = aggregate_for_locations(df, region, do_diffs=False)['Deaths']\n",
    "    deaths = list(deaths[deaths > 0])\n",
    "    \n",
    "    x = range(1, len(deaths)+1)\n",
    "    y = deaths\n",
    "    \n",
    "    if not y:\n",
    "        print(f\"Insufficient data for {region}\")\n",
    "        return\n",
    "    \n",
    "    if init:\n",
    "        p0 = init(x, y)\n",
    "        a, pcov = curve_fit(fn, x, y, p0, method='trf')\n",
    "    else:\n",
    "        a, pcov = curve_fit(fn, x, y)\n",
    "\n",
    "    #a, pcov = curve_fit(fn, x[:-1], y[:-1])  # useful for seeing if latest data point is still aligned with curve\n",
    "\n",
    "    plt.figure()\n",
    "    plt.plot(x, y, 'ko', label=f\"{region} Actual Deaths\")\n",
    "    plt.plot(x, fn(x, *a), 'r-', label=\"Fitted Curve\")\n",
    "    plt.legend()\n",
    "    plt.show()\n",
    "    \n",
    "    forecast_deaths = fn(x[-1] + death_time, *a)\n",
    "    predicted_infected = forecast_deaths * 100 / fatality_rate\n",
    "    print(f'Predicted infected {int(predicted_infected)} leading to {int(forecast_deaths)} deaths in {death_time} days\\nParams: {\", \".join([str(aa) for aa in a])}')\n",
    "    print(f'One year deaths: {fn(356, *a)}')"
   ]
  },
  {
   "cell_type": "code",
   "execution_count": 57,
   "metadata": {},
   "outputs": [
    {
     "data": {
      "application/vnd.jupyter.widget-view+json": {
       "model_id": "bf38e530d8224f9ea408b4fb1f989cef",
       "version_major": 2,
       "version_minor": 0
      },
      "text/plain": [
       "interactive(children=(SelectMultiple(description='Locations', index=(211,), options=(' Azerbaijan', 'Afghanist…"
      ]
     },
     "metadata": {},
     "output_type": "display_data"
    },
    {
     "data": {
      "text/plain": [
       "<function __main__.<lambda>(Location)>"
      ]
     },
     "execution_count": 57,
     "metadata": {},
     "output_type": "execute_result"
    }
   ],
   "source": [
    "widgets.interact(lambda Location: predict_from_death_rate(Location),\n",
    "                 Location=picker)"
   ]
  },
  {
   "cell_type": "code",
   "execution_count": 58,
   "metadata": {},
   "outputs": [
    {
     "data": {
      "application/vnd.jupyter.widget-view+json": {
       "model_id": "9d6e6a4954ba45c1839a7b9b892536a4",
       "version_major": 2,
       "version_minor": 0
      },
      "text/plain": [
       "interactive(children=(SelectMultiple(description='Locations', index=(211,), options=(' Azerbaijan', 'Afghanist…"
      ]
     },
     "metadata": {},
     "output_type": "display_data"
    },
    {
     "data": {
      "text/plain": [
       "<function __main__.<lambda>(Location)>"
      ]
     },
     "execution_count": 58,
     "metadata": {},
     "output_type": "execute_result"
    }
   ],
   "source": [
    "widgets.interact(lambda Location: predict_from_death_rate(Location, fn=power),\n",
    "                 Location=picker)"
   ]
  },
  {
   "cell_type": "code",
   "execution_count": 59,
   "metadata": {},
   "outputs": [
    {
     "data": {
      "application/vnd.jupyter.widget-view+json": {
       "model_id": "1a971f0c95254672bb3db85ce2dd0f47",
       "version_major": 2,
       "version_minor": 0
      },
      "text/plain": [
       "interactive(children=(SelectMultiple(description='Locations', index=(211,), options=(' Azerbaijan', 'Afghanist…"
      ]
     },
     "metadata": {},
     "output_type": "display_data"
    },
    {
     "data": {
      "text/plain": [
       "<function __main__.<lambda>(Location)>"
      ]
     },
     "execution_count": 59,
     "metadata": {},
     "output_type": "execute_result"
    }
   ],
   "source": [
    "#### Sigmoid version should be better for places that are flattening the curve or reaching saturation\n",
    "\n",
    "widgets.interact(lambda Location: predict_from_death_rate(Location, fn=sigmoid, init=sigmoid_init),\n",
    "                 Location=picker)"
   ]
  },
  {
   "cell_type": "code",
   "execution_count": 60,
   "metadata": {},
   "outputs": [
    {
     "data": {
      "text/html": [
       "<div>\n",
       "<style scoped>\n",
       "    .dataframe tbody tr th:only-of-type {\n",
       "        vertical-align: middle;\n",
       "    }\n",
       "\n",
       "    .dataframe tbody tr th {\n",
       "        vertical-align: top;\n",
       "    }\n",
       "\n",
       "    .dataframe thead th {\n",
       "        text-align: right;\n",
       "    }\n",
       "</style>\n",
       "<table border=\"1\" class=\"dataframe\">\n",
       "  <thead>\n",
       "    <tr style=\"text-align: right;\">\n",
       "      <th></th>\n",
       "      <th>Active</th>\n",
       "      <th>Admin2</th>\n",
       "      <th>Combined_Key</th>\n",
       "      <th>Confirmed</th>\n",
       "      <th>Country/Region</th>\n",
       "      <th>Date</th>\n",
       "      <th>Deaths</th>\n",
       "      <th>FIPS</th>\n",
       "      <th>Last_Update</th>\n",
       "      <th>Lat</th>\n",
       "      <th>Latitude</th>\n",
       "      <th>Long_</th>\n",
       "      <th>Longitude</th>\n",
       "      <th>Province/State</th>\n",
       "      <th>Recovered</th>\n",
       "      <th>Unnamed: 0</th>\n",
       "    </tr>\n",
       "  </thead>\n",
       "  <tbody>\n",
       "  </tbody>\n",
       "</table>\n",
       "</div>"
      ],
      "text/plain": [
       "Empty DataFrame\n",
       "Columns: [Active, Admin2, Combined_Key, Confirmed, Country/Region, Date, Deaths, FIPS, Last_Update, Lat, Latitude, Long_, Longitude, Province/State, Recovered, Unnamed: 0]\n",
       "Index: []"
      ]
     },
     "execution_count": 60,
     "metadata": {},
     "output_type": "execute_result"
    }
   ],
   "source": [
    "# Sanity check to make sure we loaded todays data\n",
    "df[df['Date'] == date.today]"
   ]
  },
  {
   "cell_type": "code",
   "execution_count": 79,
   "metadata": {},
   "outputs": [
    {
     "data": {
      "application/vnd.jupyter.widget-view+json": {
       "model_id": "fd6570d71d15445c9722be7483e2bf4e",
       "version_major": 2,
       "version_minor": 0
      },
      "text/plain": [
       "interactive(children=(SelectMultiple(description='Locations', index=(211,), options=(' Azerbaijan', 'Afghanist…"
      ]
     },
     "metadata": {},
     "output_type": "display_data"
    },
    {
     "data": {
      "text/plain": [
       "<function __main__.<lambda>(Location)>"
      ]
     },
     "execution_count": 79,
     "metadata": {},
     "output_type": "execute_result"
    }
   ],
   "source": [
    "# Calculate actual mortality rate\n",
    "\n",
    "\n",
    "def calc_mortality_rate(loc):\n",
    "    data = aggregate_for_locations(df, loc)\n",
    "    result = []\n",
    "    end = datetime.today() + timedelta(days=1)\n",
    "    end = date(end.year, end.month, end.day)\n",
    "    try:\n",
    "        data.loc[end]\n",
    "    except Exception:\n",
    "        end -= timedelta(days=1)  # don't have today yet\n",
    "\n",
    "    for days in range(1, days_from_first_symptom_to_death + 1):\n",
    "        start = end - timedelta(days=days)\n",
    "        try:\n",
    "            # Use a 3 day count for better average\n",
    "            deaths = data.loc[end]['Deaths'] + \\\n",
    "                data.loc[end - timedelta(days=1)]['Deaths'] + \\\n",
    "                data.loc[end - timedelta(days=2)]['Deaths']\n",
    "\n",
    "            initial = data.loc[start]['Confirmed'] + \\\n",
    "                data.loc[start - timedelta(days=1)]['Confirmed'] + \\\n",
    "                data.loc[start - timedelta(days=2)]['Confirmed']\n",
    "            rate = deaths / initial if initial else 0\n",
    "            result.append(\n",
    "                {\n",
    "                    'days': days,\n",
    "                    'start': start,\n",
    "                    'end': end,\n",
    "                    'confirmed': initial,\n",
    "                    'deaths': deaths,\n",
    "                    'rate': rate\n",
    "                }\n",
    "            )\n",
    "        except Exception:\n",
    "            pass\n",
    "\n",
    "    return pd.DataFrame(result)\n",
    "\n",
    "widgets.interact(lambda Location: calc_mortality_rate(Location), Location=picker)\n"
   ]
  },
  {
   "cell_type": "code",
   "execution_count": null,
   "metadata": {},
   "outputs": [],
   "source": []
  }
 ],
 "metadata": {
  "kernelspec": {
   "display_name": "Python 3",
   "language": "python",
   "name": "python3"
  },
  "language_info": {
   "codemirror_mode": {
    "name": "ipython",
    "version": 3
   },
   "file_extension": ".py",
   "mimetype": "text/x-python",
   "name": "python",
   "nbconvert_exporter": "python",
   "pygments_lexer": "ipython3",
   "version": "3.7.5"
  }
 },
 "nbformat": 4,
 "nbformat_minor": 2
}
