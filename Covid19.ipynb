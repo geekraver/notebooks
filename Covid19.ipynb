{
 "cells": [
  {
   "cell_type": "code",
   "execution_count": 48,
   "metadata": {},
   "outputs": [],
   "source": [
    "from datetime import date, datetime, timedelta\n",
    "import numpy as np\n",
    "import pandas as pd\n",
    "import matplotlib.pyplot as plt \n",
    "import matplotlib.dates as dates\n",
    "import ipywidgets as widgets\n",
    "\n",
    "%matplotlib inline"
   ]
  },
  {
   "cell_type": "code",
   "execution_count": 115,
   "metadata": {},
   "outputs": [],
   "source": [
    "df = None\n",
    "last = datetime.now() - timedelta(hours=1)\n",
    "\n",
    "\n",
    "def get_data():\n",
    "    \"\"\"\n",
    "    Get the latest data. Just return the cached copy\n",
    "    if less than one hour has elapsed.\n",
    "    \"\"\"\n",
    "    global last, df\n",
    "    now = datetime.now()\n",
    "    if now - last < timedelta(hours=1):\n",
    "        return df\n",
    "\n",
    "    last = now    \n",
    "    start = date(2020, 1, 22)\n",
    "    end = date.today()\n",
    "\n",
    "    df = pd.DataFrame()\n",
    "    while start <= end:\n",
    "        try:\n",
    "            df_day = pd.read_csv(f'https://raw.githubusercontent.com/CSSEGISandData/COVID-19/master/csse_covid_19_data/csse_covid_19_daily_reports/{start.month:02d}-{start.day:02d}-{start.year}.csv')\n",
    "            df_day['Date'] = start\n",
    "            df = df.append(df_day)\n",
    "        except Exception:\n",
    "            pass\n",
    "        start += timedelta(days=1)\n",
    "    \n",
    "    del df['Last Update']\n",
    "    df = df.replace({'Country/Region': {'Mainland China': 'China'}})\n",
    "    df.fillna({'Province/State': ''}, inplace=True)\n",
    "    for col in ['Confirmed', 'Deaths', 'Recovered']:\n",
    "        df.fillna({col: 0}, inplace=True)\n",
    "    return df"
   ]
  },
  {
   "cell_type": "code",
   "execution_count": 116,
   "metadata": {},
   "outputs": [
    {
     "data": {
      "text/html": [
       "<div>\n",
       "<style scoped>\n",
       "    .dataframe tbody tr th:only-of-type {\n",
       "        vertical-align: middle;\n",
       "    }\n",
       "\n",
       "    .dataframe tbody tr th {\n",
       "        vertical-align: top;\n",
       "    }\n",
       "\n",
       "    .dataframe thead th {\n",
       "        text-align: right;\n",
       "    }\n",
       "</style>\n",
       "<table border=\"1\" class=\"dataframe\">\n",
       "  <thead>\n",
       "    <tr style=\"text-align: right;\">\n",
       "      <th></th>\n",
       "      <th>Province/State</th>\n",
       "      <th>Country/Region</th>\n",
       "      <th>Confirmed</th>\n",
       "      <th>Deaths</th>\n",
       "      <th>Recovered</th>\n",
       "      <th>Date</th>\n",
       "      <th>Latitude</th>\n",
       "      <th>Longitude</th>\n",
       "    </tr>\n",
       "  </thead>\n",
       "  <tbody>\n",
       "    <tr>\n",
       "      <th>211</th>\n",
       "      <td>Mississippi</td>\n",
       "      <td>US</td>\n",
       "      <td>0.0</td>\n",
       "      <td>0.0</td>\n",
       "      <td>0.0</td>\n",
       "      <td>2020-03-11</td>\n",
       "      <td>32.7416</td>\n",
       "      <td>-89.6787</td>\n",
       "    </tr>\n",
       "    <tr>\n",
       "      <th>212</th>\n",
       "      <td>North Dakota</td>\n",
       "      <td>US</td>\n",
       "      <td>0.0</td>\n",
       "      <td>0.0</td>\n",
       "      <td>0.0</td>\n",
       "      <td>2020-03-11</td>\n",
       "      <td>47.5289</td>\n",
       "      <td>-99.7840</td>\n",
       "    </tr>\n",
       "    <tr>\n",
       "      <th>213</th>\n",
       "      <td>West Virginia</td>\n",
       "      <td>US</td>\n",
       "      <td>0.0</td>\n",
       "      <td>0.0</td>\n",
       "      <td>0.0</td>\n",
       "      <td>2020-03-11</td>\n",
       "      <td>38.4912</td>\n",
       "      <td>-80.9545</td>\n",
       "    </tr>\n",
       "    <tr>\n",
       "      <th>214</th>\n",
       "      <td>Wyoming</td>\n",
       "      <td>US</td>\n",
       "      <td>0.0</td>\n",
       "      <td>0.0</td>\n",
       "      <td>0.0</td>\n",
       "      <td>2020-03-11</td>\n",
       "      <td>42.7560</td>\n",
       "      <td>-107.3025</td>\n",
       "    </tr>\n",
       "    <tr>\n",
       "      <th>215</th>\n",
       "      <td></td>\n",
       "      <td>occupied Palestinian territory</td>\n",
       "      <td>0.0</td>\n",
       "      <td>0.0</td>\n",
       "      <td>0.0</td>\n",
       "      <td>2020-03-11</td>\n",
       "      <td>31.9522</td>\n",
       "      <td>35.2332</td>\n",
       "    </tr>\n",
       "  </tbody>\n",
       "</table>\n",
       "</div>"
      ],
      "text/plain": [
       "    Province/State                  Country/Region  Confirmed  Deaths  \\\n",
       "211    Mississippi                              US        0.0     0.0   \n",
       "212   North Dakota                              US        0.0     0.0   \n",
       "213  West Virginia                              US        0.0     0.0   \n",
       "214        Wyoming                              US        0.0     0.0   \n",
       "215                 occupied Palestinian territory        0.0     0.0   \n",
       "\n",
       "     Recovered        Date  Latitude  Longitude  \n",
       "211        0.0  2020-03-11   32.7416   -89.6787  \n",
       "212        0.0  2020-03-11   47.5289   -99.7840  \n",
       "213        0.0  2020-03-11   38.4912   -80.9545  \n",
       "214        0.0  2020-03-11   42.7560  -107.3025  \n",
       "215        0.0  2020-03-11   31.9522    35.2332  "
      ]
     },
     "execution_count": 116,
     "metadata": {},
     "output_type": "execute_result"
    }
   ],
   "source": [
    "df = get_data()\n",
    "df.tail(5)"
   ]
  },
  {
   "cell_type": "code",
   "execution_count": 117,
   "metadata": {},
   "outputs": [],
   "source": [
    "def aggregate_for_locations(df, locations, do_diffs = True, fields = None):\n",
    "    if fields is None:\n",
    "        fields = ['Confirmed', 'Deaths', 'Recovered']\n",
    "    if isinstance(locations, str):\n",
    "        locations = [locations]\n",
    "    in_loc = df[df['Country/Region'].isin(locations)]\n",
    "    cols = ['Date']\n",
    "    cols.extend(fields)\n",
    "    result = in_loc[cols].groupby('Date').sum()\n",
    "    if do_diffs:\n",
    "        for f in fields:\n",
    "            result[f] = result[f].diff()\n",
    "            result.fillna({f: 0}, inplace=True)\n",
    "    return result\n"
   ]
  },
  {
   "cell_type": "code",
   "execution_count": 118,
   "metadata": {},
   "outputs": [],
   "source": [
    "def plot_time_series(df, title):\n",
    "    fig, ax = plt.subplots()\n",
    "    ax.plot_date(df.index, df, 'v-')\n",
    "    ax.xaxis.set_minor_locator(dates.WeekdayLocator(byweekday=(1), interval=1))\n",
    "    ax.xaxis.set_minor_formatter(dates.DateFormatter('%d\\n%a'))\n",
    "    ax.xaxis.grid(True, which=\"minor\")\n",
    "    ax.yaxis.grid()\n",
    "    ax.xaxis.set_major_locator(dates.MonthLocator())\n",
    "    ax.xaxis.set_major_formatter(dates.DateFormatter('\\n\\n\\n%b\\n%Y'))\n",
    "    ax.legend(df.columns, loc='upper left', shadow=True)\n",
    "    ax.set_title(title)\n",
    "    plt.tight_layout()\n",
    "    return plt"
   ]
  },
  {
   "cell_type": "code",
   "execution_count": 119,
   "metadata": {},
   "outputs": [],
   "source": [
    "locations = sorted(list(df['Country/Region'].unique()))"
   ]
  },
  {
   "cell_type": "code",
   "execution_count": 120,
   "metadata": {},
   "outputs": [
    {
     "data": {
      "application/vnd.jupyter.widget-view+json": {
       "model_id": "f531ae76b0af466684886fcdfc5c172c",
       "version_major": 2,
       "version_minor": 0
      },
      "text/plain": [
       "interactive(children=(SelectMultiple(description='Locations', index=(134,), options=(' Azerbaijan', 'Afghanist…"
      ]
     },
     "metadata": {},
     "output_type": "display_data"
    },
    {
     "data": {
      "text/plain": [
       "<function __main__.<lambda>(Location)>"
      ]
     },
     "execution_count": 120,
     "metadata": {},
     "output_type": "execute_result"
    }
   ],
   "source": [
    "widgets.interact(lambda Location: plot_time_series(aggregate_for_locations(df, Location, do_diffs=False), title='Cumulative'),\n",
    "                 Location=widgets.SelectMultiple(\n",
    "                        options=locations,\n",
    "                        value=['US'],\n",
    "                        description='Locations'\n",
    "                )\n",
    ")"
   ]
  },
  {
   "cell_type": "code",
   "execution_count": 121,
   "metadata": {},
   "outputs": [
    {
     "data": {
      "application/vnd.jupyter.widget-view+json": {
       "model_id": "3a4b50a3f0204be5b2ae1a30024baed9",
       "version_major": 2,
       "version_minor": 0
      },
      "text/plain": [
       "interactive(children=(SelectMultiple(description='Locations', index=(134,), options=(' Azerbaijan', 'Afghanist…"
      ]
     },
     "metadata": {},
     "output_type": "display_data"
    },
    {
     "data": {
      "text/plain": [
       "<function __main__.<lambda>(Location)>"
      ]
     },
     "execution_count": 121,
     "metadata": {},
     "output_type": "execute_result"
    }
   ],
   "source": [
    "widgets.interact(lambda Location: plot_time_series(aggregate_for_locations(df, Location), title='New'),\n",
    "                 Location=widgets.SelectMultiple(\n",
    "                        options=locations,\n",
    "                        value=['US'],\n",
    "                        description='Locations'\n",
    "                )\n",
    ")"
   ]
  },
  {
   "cell_type": "code",
   "execution_count": null,
   "metadata": {},
   "outputs": [],
   "source": []
  }
 ],
 "metadata": {
  "kernelspec": {
   "display_name": "Python 3",
   "language": "python",
   "name": "python3"
  },
  "language_info": {
   "codemirror_mode": {
    "name": "ipython",
    "version": 3
   },
   "file_extension": ".py",
   "mimetype": "text/x-python",
   "name": "python",
   "nbconvert_exporter": "python",
   "pygments_lexer": "ipython3",
   "version": "3.7.5"
  }
 },
 "nbformat": 4,
 "nbformat_minor": 2
}
