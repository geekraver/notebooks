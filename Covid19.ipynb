{
 "cells": [
  {
   "cell_type": "markdown",
   "metadata": {},
   "source": [
    "# Covid19 Investigation\n",
    "\n",
    "Set some key parameters:"
   ]
  },
  {
   "cell_type": "code",
   "execution_count": 27,
   "metadata": {},
   "outputs": [],
   "source": [
    "mortality_rate = 8  # In %; see near the end for how I determined this\n",
    "days_to_first_symptom = 5 # 5.4 days is the average value I have seen cited\n",
    "days_from_first_symptom_to_death = 14  # again, the average"
   ]
  },
  {
   "cell_type": "markdown",
   "metadata": {},
   "source": [
    "Import dependencies:"
   ]
  },
  {
   "cell_type": "code",
   "execution_count": 28,
   "metadata": {},
   "outputs": [],
   "source": [
    "from datetime import date, datetime, timedelta\n",
    "import os\n",
    "import numpy as np\n",
    "import pandas as pd\n",
    "from pandas.plotting import register_matplotlib_converters\n",
    "import matplotlib.pyplot as plt \n",
    "import matplotlib.dates as dates\n",
    "import ipywidgets as widgets\n",
    "from scipy.optimize import curve_fit\n",
    "from scipy.integrate import odeint\n",
    "\n",
    "\n",
    "register_matplotlib_converters()\n",
    "%matplotlib inline"
   ]
  },
  {
   "cell_type": "markdown",
   "metadata": {},
   "source": [
    "Fetch the latest updated data from the Johns Hopkins repo."
   ]
  },
  {
   "cell_type": "code",
   "execution_count": 29,
   "metadata": {},
   "outputs": [],
   "source": [
    "df = None\n",
    "last = datetime.now() - timedelta(hours=1)\n",
    "\n",
    "\n",
    "def get_data():\n",
    "    \"\"\"\n",
    "    Get the latest data. Just return the cached copy\n",
    "    if less than one hour has elapsed.\n",
    "    \"\"\"\n",
    "    global last, df\n",
    "    now = datetime.now()\n",
    "    if df and now - last < timedelta(hours=1):\n",
    "        print('Using cached copy')\n",
    "        return df\n",
    "\n",
    "    if not os.path.exists('csse_covid_19_daily_reports'):\n",
    "        os.mkdir('csse_covid_19_daily_reports')\n",
    "        \n",
    "    last = now    \n",
    "    start = date(2020, 1, 22)\n",
    "    end = date.today()\n",
    "\n",
    "    df = pd.DataFrame()\n",
    "    while start <= end:\n",
    "        try:\n",
    "            which = f'csse_covid_19_daily_reports/{start.month:02d}-{start.day:02d}-{start.year}.csv'\n",
    "            if os.path.exists(which):\n",
    "                df_day = pd.read_csv(which)\n",
    "            else:\n",
    "                df_day = pd.read_csv(f'https://raw.githubusercontent.com/CSSEGISandData/COVID-19/master/csse_covid_19_data/{which}')\n",
    "                df_day.to_csv(which)\n",
    "            df_day['Date'] = start\n",
    "            if 'Country_Region' in df_day.columns:\n",
    "                df_day = df_day.rename(columns={'Country_Region': 'Country/Region', 'Province_State': 'Province/State'})\n",
    "            df = df.append(df_day)\n",
    "        except Exception as e:\n",
    "            print(f'{start}: {e}')\n",
    "        start += timedelta(days=1)\n",
    "    \n",
    "    del df['Last Update']\n",
    "    df = df.replace({'Country/Region': {'Mainland China': 'China'}})\n",
    "    df.fillna({'Province/State': ''}, inplace=True)\n",
    "    for col in ['Confirmed', 'Deaths', 'Recovered']:\n",
    "        df.fillna({col: 0}, inplace=True)\n",
    "    return df"
   ]
  },
  {
   "cell_type": "code",
   "execution_count": 30,
   "metadata": {},
   "outputs": [
    {
     "data": {
      "text/html": [
       "<div>\n",
       "<style scoped>\n",
       "    .dataframe tbody tr th:only-of-type {\n",
       "        vertical-align: middle;\n",
       "    }\n",
       "\n",
       "    .dataframe tbody tr th {\n",
       "        vertical-align: top;\n",
       "    }\n",
       "\n",
       "    .dataframe thead th {\n",
       "        text-align: right;\n",
       "    }\n",
       "</style>\n",
       "<table border=\"1\" class=\"dataframe\">\n",
       "  <thead>\n",
       "    <tr style=\"text-align: right;\">\n",
       "      <th></th>\n",
       "      <th>Unnamed: 0</th>\n",
       "      <th>Province/State</th>\n",
       "      <th>Country/Region</th>\n",
       "      <th>Confirmed</th>\n",
       "      <th>Deaths</th>\n",
       "      <th>Recovered</th>\n",
       "      <th>Date</th>\n",
       "      <th>Latitude</th>\n",
       "      <th>Longitude</th>\n",
       "      <th>FIPS</th>\n",
       "      <th>...</th>\n",
       "      <th>Last_Update</th>\n",
       "      <th>Lat</th>\n",
       "      <th>Long_</th>\n",
       "      <th>Active</th>\n",
       "      <th>Combined_Key</th>\n",
       "      <th>Incident_Rate</th>\n",
       "      <th>People_Tested</th>\n",
       "      <th>People_Hospitalized</th>\n",
       "      <th>UID</th>\n",
       "      <th>ISO3</th>\n",
       "    </tr>\n",
       "  </thead>\n",
       "  <tbody>\n",
       "    <tr>\n",
       "      <th>3218</th>\n",
       "      <td>NaN</td>\n",
       "      <td></td>\n",
       "      <td>West Bank and Gaza</td>\n",
       "      <td>375.0</td>\n",
       "      <td>2.0</td>\n",
       "      <td>176.0</td>\n",
       "      <td>2020-05-07</td>\n",
       "      <td>NaN</td>\n",
       "      <td>NaN</td>\n",
       "      <td>NaN</td>\n",
       "      <td>...</td>\n",
       "      <td>2020-05-08 02:32:32</td>\n",
       "      <td>31.952200</td>\n",
       "      <td>35.233200</td>\n",
       "      <td>197.0</td>\n",
       "      <td>West Bank and Gaza</td>\n",
       "      <td>NaN</td>\n",
       "      <td>NaN</td>\n",
       "      <td>NaN</td>\n",
       "      <td>NaN</td>\n",
       "      <td>NaN</td>\n",
       "    </tr>\n",
       "    <tr>\n",
       "      <th>3219</th>\n",
       "      <td>NaN</td>\n",
       "      <td></td>\n",
       "      <td>Western Sahara</td>\n",
       "      <td>6.0</td>\n",
       "      <td>0.0</td>\n",
       "      <td>5.0</td>\n",
       "      <td>2020-05-07</td>\n",
       "      <td>NaN</td>\n",
       "      <td>NaN</td>\n",
       "      <td>NaN</td>\n",
       "      <td>...</td>\n",
       "      <td>2020-05-08 02:32:32</td>\n",
       "      <td>24.215500</td>\n",
       "      <td>-12.885800</td>\n",
       "      <td>1.0</td>\n",
       "      <td>Western Sahara</td>\n",
       "      <td>NaN</td>\n",
       "      <td>NaN</td>\n",
       "      <td>NaN</td>\n",
       "      <td>NaN</td>\n",
       "      <td>NaN</td>\n",
       "    </tr>\n",
       "    <tr>\n",
       "      <th>3220</th>\n",
       "      <td>NaN</td>\n",
       "      <td></td>\n",
       "      <td>Yemen</td>\n",
       "      <td>25.0</td>\n",
       "      <td>5.0</td>\n",
       "      <td>1.0</td>\n",
       "      <td>2020-05-07</td>\n",
       "      <td>NaN</td>\n",
       "      <td>NaN</td>\n",
       "      <td>NaN</td>\n",
       "      <td>...</td>\n",
       "      <td>2020-05-08 02:32:32</td>\n",
       "      <td>15.552727</td>\n",
       "      <td>48.516388</td>\n",
       "      <td>19.0</td>\n",
       "      <td>Yemen</td>\n",
       "      <td>NaN</td>\n",
       "      <td>NaN</td>\n",
       "      <td>NaN</td>\n",
       "      <td>NaN</td>\n",
       "      <td>NaN</td>\n",
       "    </tr>\n",
       "    <tr>\n",
       "      <th>3221</th>\n",
       "      <td>NaN</td>\n",
       "      <td></td>\n",
       "      <td>Zambia</td>\n",
       "      <td>153.0</td>\n",
       "      <td>4.0</td>\n",
       "      <td>103.0</td>\n",
       "      <td>2020-05-07</td>\n",
       "      <td>NaN</td>\n",
       "      <td>NaN</td>\n",
       "      <td>NaN</td>\n",
       "      <td>...</td>\n",
       "      <td>2020-05-08 02:32:32</td>\n",
       "      <td>-13.133897</td>\n",
       "      <td>27.849332</td>\n",
       "      <td>46.0</td>\n",
       "      <td>Zambia</td>\n",
       "      <td>NaN</td>\n",
       "      <td>NaN</td>\n",
       "      <td>NaN</td>\n",
       "      <td>NaN</td>\n",
       "      <td>NaN</td>\n",
       "    </tr>\n",
       "    <tr>\n",
       "      <th>3222</th>\n",
       "      <td>NaN</td>\n",
       "      <td></td>\n",
       "      <td>Zimbabwe</td>\n",
       "      <td>34.0</td>\n",
       "      <td>4.0</td>\n",
       "      <td>5.0</td>\n",
       "      <td>2020-05-07</td>\n",
       "      <td>NaN</td>\n",
       "      <td>NaN</td>\n",
       "      <td>NaN</td>\n",
       "      <td>...</td>\n",
       "      <td>2020-05-08 02:32:32</td>\n",
       "      <td>-19.015438</td>\n",
       "      <td>29.154857</td>\n",
       "      <td>25.0</td>\n",
       "      <td>Zimbabwe</td>\n",
       "      <td>NaN</td>\n",
       "      <td>NaN</td>\n",
       "      <td>NaN</td>\n",
       "      <td>NaN</td>\n",
       "      <td>NaN</td>\n",
       "    </tr>\n",
       "  </tbody>\n",
       "</table>\n",
       "<p>5 rows × 21 columns</p>\n",
       "</div>"
      ],
      "text/plain": [
       "      Unnamed: 0 Province/State      Country/Region  Confirmed  Deaths  \\\n",
       "3218         NaN                 West Bank and Gaza      375.0     2.0   \n",
       "3219         NaN                     Western Sahara        6.0     0.0   \n",
       "3220         NaN                              Yemen       25.0     5.0   \n",
       "3221         NaN                             Zambia      153.0     4.0   \n",
       "3222         NaN                           Zimbabwe       34.0     4.0   \n",
       "\n",
       "      Recovered        Date  Latitude  Longitude  FIPS  ...  \\\n",
       "3218      176.0  2020-05-07       NaN        NaN   NaN  ...   \n",
       "3219        5.0  2020-05-07       NaN        NaN   NaN  ...   \n",
       "3220        1.0  2020-05-07       NaN        NaN   NaN  ...   \n",
       "3221      103.0  2020-05-07       NaN        NaN   NaN  ...   \n",
       "3222        5.0  2020-05-07       NaN        NaN   NaN  ...   \n",
       "\n",
       "              Last_Update        Lat      Long_  Active        Combined_Key  \\\n",
       "3218  2020-05-08 02:32:32  31.952200  35.233200   197.0  West Bank and Gaza   \n",
       "3219  2020-05-08 02:32:32  24.215500 -12.885800     1.0      Western Sahara   \n",
       "3220  2020-05-08 02:32:32  15.552727  48.516388    19.0               Yemen   \n",
       "3221  2020-05-08 02:32:32 -13.133897  27.849332    46.0              Zambia   \n",
       "3222  2020-05-08 02:32:32 -19.015438  29.154857    25.0            Zimbabwe   \n",
       "\n",
       "     Incident_Rate  People_Tested  People_Hospitalized  UID  ISO3  \n",
       "3218           NaN            NaN                  NaN  NaN   NaN  \n",
       "3219           NaN            NaN                  NaN  NaN   NaN  \n",
       "3220           NaN            NaN                  NaN  NaN   NaN  \n",
       "3221           NaN            NaN                  NaN  NaN   NaN  \n",
       "3222           NaN            NaN                  NaN  NaN   NaN  \n",
       "\n",
       "[5 rows x 21 columns]"
      ]
     },
     "execution_count": 30,
     "metadata": {},
     "output_type": "execute_result"
    }
   ],
   "source": [
    "df = get_data()\n",
    "df.tail(5)"
   ]
  },
  {
   "cell_type": "markdown",
   "metadata": {},
   "source": [
    "Because the JH data is split by sub-regions (Province/State) we need to be able to aggregate it for countries. We also want to be able to handle it as either \"daily new\" or \"cumulative\". The helper function below can do this for us."
   ]
  },
  {
   "cell_type": "code",
   "execution_count": 31,
   "metadata": {},
   "outputs": [],
   "source": [
    "def aggregate_for_locations(df, locations, sub_locs=None, how=None, fields=None):\n",
    "    if how is None:\n",
    "        how = 'cumulative'\n",
    "    if fields is None:\n",
    "        fields = ['Confirmed', 'Deaths', 'Recovered']\n",
    "    cols = ['Date']\n",
    "    cols.extend(fields)\n",
    "    \n",
    "    if isinstance(locations, str):\n",
    "        locations = [locations]\n",
    "        \n",
    "    if sub_locs:\n",
    "        in_loc = df[(df['Country/Region'].isin(locations)) & (df['Province/State'].isin(sub_locs))]\n",
    "    else:\n",
    "        in_loc = df[df['Country/Region'].isin(locations)]\n",
    "        \n",
    "    result = in_loc[cols].groupby('Date').sum()\n",
    "    \n",
    "    if how[:3] == 'new':\n",
    "        for f in fields:\n",
    "            result[f] = result[f].diff()\n",
    "\n",
    "    if how.find('-') > 0 and how[how.find('-')+1:] == '7day':  # moving average\n",
    "        rolling = result.rolling(window=7)\n",
    "        for f in fields:\n",
    "            result[f] = rolling[f].mean()\n",
    "    for f in fields:\n",
    "        result.fillna({f: 0}, inplace=True)        \n",
    "    return result\n"
   ]
  },
  {
   "cell_type": "markdown",
   "metadata": {},
   "source": [
    "Helper function to plot a time series chart:"
   ]
  },
  {
   "cell_type": "code",
   "execution_count": 32,
   "metadata": {},
   "outputs": [],
   "source": [
    "def plot_time_series(df, title):\n",
    "    fig, ax = plt.subplots()\n",
    "    ax.plot_date(df.index, df, 'v-')\n",
    "    ax.xaxis.set_minor_locator(dates.WeekdayLocator(byweekday=(1), interval=1))\n",
    "    ax.xaxis.set_minor_formatter(dates.DateFormatter('%d\\n%a'))\n",
    "    ax.xaxis.grid(True, which=\"minor\")\n",
    "    ax.yaxis.grid()\n",
    "    ax.xaxis.set_major_locator(dates.MonthLocator())\n",
    "    ax.xaxis.set_major_formatter(dates.DateFormatter('\\n\\n\\n%b\\n%Y'))\n",
    "    ax.legend(df.columns, loc='upper left', shadow=True)\n",
    "    ax.set_title(title)\n",
    "    plt.tight_layout()\n",
    "    return plt"
   ]
  },
  {
   "cell_type": "markdown",
   "metadata": {},
   "source": [
    "Get the set of possible Country/Region values:"
   ]
  },
  {
   "cell_type": "code",
   "execution_count": 33,
   "metadata": {},
   "outputs": [],
   "source": [
    "locations = sorted(list(df['Country/Region'].unique()))"
   ]
  },
  {
   "cell_type": "markdown",
   "metadata": {},
   "source": [
    "We have one chart that lets us drill down into US states so we need the list of those. In some cases the data is broken into cities/counties, so we build up a dictionary of state abbreviations to the set of locations used for that state:"
   ]
  },
  {
   "cell_type": "code",
   "execution_count": 34,
   "metadata": {},
   "outputs": [],
   "source": [
    "states = {\n",
    "    'AL': ['Alabama'],\n",
    "    'AK': ['Alaska'],\n",
    "    'AZ': ['Arizona'],\n",
    "    'AR': ['Arkansas'],\n",
    "    'CA': ['California'],\n",
    "    'CO': ['Colorado'],\n",
    "    'CT': ['Connecticut'],\n",
    "    'D.C.': ['District of Columbia'],\n",
    "    'DE': ['Delaware'],\n",
    "    'FL': ['Florida'],\n",
    "    'GA': ['Georgia'],\n",
    "    'HI': ['Hawaii'],\n",
    "    'ID': ['Idaho'],\n",
    "    'IL': ['Illinois'],\n",
    "    'IN': ['Indiana'],\n",
    "    'IA': ['Iowa'],\n",
    "    'KS': ['Kansas'],\n",
    "    'KY': ['Kentucky'],\n",
    "    'LA': ['Louisiana'],\n",
    "    'ME': ['Maine'],\n",
    "    'MD': ['Maryland'],\n",
    "    'MA': ['Massachusetts'],\n",
    "    'MI': ['Michigan'],\n",
    "    'MN': ['Minnesota'],\n",
    "    'MS': ['Mississippi'],\n",
    "    'MO': ['Missouri'],\n",
    "    'MT': ['Montana'],\n",
    "    'NE': ['Nebraska'],\n",
    "    'NV': ['Nevada'],\n",
    "    'NH': ['New Hampshire'],\n",
    "    'NJ': ['New Jersey'],\n",
    "    'NM': ['New Mexico'],\n",
    "    'NY': ['New York'],\n",
    "    'NC': ['North Carolina'],\n",
    "    'ND': ['North Dakota'],\n",
    "    'OH': ['Ohio'],\n",
    "    'OK': ['Oklahoma'],\n",
    "    'OR': ['Oregon'],\n",
    "    'PA': ['Pennsylvania'],\n",
    "    'PR': ['Puerto Rico'],\n",
    "    'RI': ['Rhode Island'],\n",
    "    'SC': ['South Carolina'],\n",
    "    'SD': ['South Dakota'],\n",
    "    'TN': ['Tennessee'],\n",
    "    'TX': ['Texas'],\n",
    "    'UT': ['Utah'],\n",
    "    'VT': ['Vermont'],\n",
    "    'VA': ['Virginia'],\n",
    "    'WA': ['Washington'],\n",
    "    'WV': ['West Virginia'],\n",
    "    'WI': ['Wisconsin'],\n",
    "    'WY': ['Wyoming'],\n",
    "    'U.S.': [] # other territories\n",
    "}\n",
    "\n",
    "# Extend the above with all the counties/cities that were broken out separately\n",
    "for s in df[df['Country/Region'] == 'US']['Province/State'].unique():\n",
    "    i = s.find(',')\n",
    "    if i < 0:\n",
    "        continue\n",
    "    st = s[i+2:i+5].strip()\n",
    "    if st not in states:\n",
    "        st += '.'\n",
    "        if st not in states:\n",
    "            print(f'Failed with {s}/{st}')\n",
    "            continue\n",
    "    states[st].append(s)\n"
   ]
  },
  {
   "cell_type": "markdown",
   "metadata": {},
   "source": [
    "Create a country multi-picker:"
   ]
  },
  {
   "cell_type": "code",
   "execution_count": 35,
   "metadata": {},
   "outputs": [],
   "source": [
    "picker = widgets.SelectMultiple(\n",
    "                        options=locations,\n",
    "                        value=['US'],\n",
    "                        description='Locations'\n",
    "                )"
   ]
  },
  {
   "cell_type": "markdown",
   "metadata": {},
   "source": [
    "Our first interactive chart is for one or more countries, cumulative cases:"
   ]
  },
  {
   "cell_type": "code",
   "execution_count": 36,
   "metadata": {},
   "outputs": [
    {
     "data": {
      "application/vnd.jupyter.widget-view+json": {
       "model_id": "31e362c4532e4008b72e989ba06be7f1",
       "version_major": 2,
       "version_minor": 0
      },
      "text/plain": [
       "interactive(children=(SelectMultiple(description='Locations', index=(219,), options=(' Azerbaijan', 'Afghanist…"
      ]
     },
     "metadata": {},
     "output_type": "display_data"
    },
    {
     "data": {
      "text/plain": [
       "<function __main__.<lambda>(Location)>"
      ]
     },
     "execution_count": 36,
     "metadata": {},
     "output_type": "execute_result"
    }
   ],
   "source": [
    "widgets.interact(lambda Location: plot_time_series(aggregate_for_locations(df, Location, how='cumulative'), \n",
    "                                                   title=f'{\" \".join(Location)}: Cumulative'),\n",
    "                 Location=picker)"
   ]
  },
  {
   "cell_type": "markdown",
   "metadata": {},
   "source": [
    "As above, but new cases rather than cumulative:"
   ]
  },
  {
   "cell_type": "code",
   "execution_count": 37,
   "metadata": {},
   "outputs": [
    {
     "data": {
      "application/vnd.jupyter.widget-view+json": {
       "model_id": "78c0cd3cb01a46c9b77bf598f74b8e1a",
       "version_major": 2,
       "version_minor": 0
      },
      "text/plain": [
       "interactive(children=(SelectMultiple(description='Locations', index=(219,), options=(' Azerbaijan', 'Afghanist…"
      ]
     },
     "metadata": {},
     "output_type": "display_data"
    },
    {
     "data": {
      "text/plain": [
       "<function __main__.<lambda>(Location)>"
      ]
     },
     "execution_count": 37,
     "metadata": {},
     "output_type": "execute_result"
    }
   ],
   "source": [
    "widgets.interact(lambda Location: plot_time_series(aggregate_for_locations(df, Location, how='new'), \n",
    "                                                   title=f'{\" \".join(Location)}: New'),\n",
    "                 Location=picker)"
   ]
  },
  {
   "cell_type": "code",
   "execution_count": 38,
   "metadata": {},
   "outputs": [
    {
     "data": {
      "application/vnd.jupyter.widget-view+json": {
       "model_id": "9ba0279f8f6d4389ba7051eab5620ce6",
       "version_major": 2,
       "version_minor": 0
      },
      "text/plain": [
       "interactive(children=(SelectMultiple(description='Locations', index=(219,), options=(' Azerbaijan', 'Afghanist…"
      ]
     },
     "metadata": {},
     "output_type": "display_data"
    },
    {
     "data": {
      "text/plain": [
       "<function __main__.<lambda>(Location)>"
      ]
     },
     "execution_count": 38,
     "metadata": {},
     "output_type": "execute_result"
    }
   ],
   "source": [
    "widgets.interact(lambda Location: plot_time_series(aggregate_for_locations(df, Location, how='new-7day'), \n",
    "                                                   title=f'{\" \".join(Location)}: New (7-day MA)'),\n",
    "                 Location=picker)"
   ]
  },
  {
   "cell_type": "markdown",
   "metadata": {},
   "source": [
    "There are so many infections its hard to see the deaths, so pull those out separately:"
   ]
  },
  {
   "cell_type": "code",
   "execution_count": 39,
   "metadata": {},
   "outputs": [
    {
     "data": {
      "application/vnd.jupyter.widget-view+json": {
       "model_id": "6f8946408f5549d686127ffac5a7660d",
       "version_major": 2,
       "version_minor": 0
      },
      "text/plain": [
       "interactive(children=(SelectMultiple(description='Locations', index=(219,), options=(' Azerbaijan', 'Afghanist…"
      ]
     },
     "metadata": {},
     "output_type": "display_data"
    },
    {
     "data": {
      "text/plain": [
       "<function __main__.<lambda>(Location)>"
      ]
     },
     "execution_count": 39,
     "metadata": {},
     "output_type": "execute_result"
    }
   ],
   "source": [
    "widgets.interact(lambda Location: plot_time_series(aggregate_for_locations(df, Location, fields=['Deaths'], how='new'), \n",
    "                                                   title=f'{\" \".join(Location)}: New'),\n",
    "                 Location=picker)"
   ]
  },
  {
   "cell_type": "markdown",
   "metadata": {},
   "source": [
    "A chart for cumulative cases in different US states:"
   ]
  },
  {
   "cell_type": "code",
   "execution_count": 40,
   "metadata": {},
   "outputs": [
    {
     "data": {
      "application/vnd.jupyter.widget-view+json": {
       "model_id": "7178dc7466354286be1771b049ea842f",
       "version_major": 2,
       "version_minor": 0
      },
      "text/plain": [
       "interactive(children=(Select(description='States', index=48, options=('AL', 'AK', 'AZ', 'AR', 'CA', 'CO', 'CT'…"
      ]
     },
     "metadata": {},
     "output_type": "display_data"
    },
    {
     "data": {
      "text/plain": [
       "<function __main__.<lambda>(Location)>"
      ]
     },
     "execution_count": 40,
     "metadata": {},
     "output_type": "execute_result"
    }
   ],
   "source": [
    "picker2 = widgets.Select(\n",
    "                        options=states.keys(),\n",
    "                        value='WA',\n",
    "                        description='States'\n",
    "                )\n",
    "widgets.interact(lambda Location: plot_time_series(aggregate_for_locations(df, 'US', sub_locs=states[Location], how='cumulative'), \n",
    "                                                   title=f'{Location}: Cumulative'),\n",
    "                 Location=picker2)"
   ]
  },
  {
   "cell_type": "code",
   "execution_count": 41,
   "metadata": {},
   "outputs": [
    {
     "data": {
      "application/vnd.jupyter.widget-view+json": {
       "model_id": "5790b469881a479895d6bae189561ecb",
       "version_major": 2,
       "version_minor": 0
      },
      "text/plain": [
       "interactive(children=(Select(description='States', index=48, options=('AL', 'AK', 'AZ', 'AR', 'CA', 'CO', 'CT'…"
      ]
     },
     "metadata": {},
     "output_type": "display_data"
    },
    {
     "data": {
      "text/plain": [
       "<function __main__.<lambda>(Location)>"
      ]
     },
     "execution_count": 41,
     "metadata": {},
     "output_type": "execute_result"
    }
   ],
   "source": [
    "widgets.interact(lambda Location: plot_time_series(aggregate_for_locations(df, 'US', sub_locs=states[Location], how='new'), \n",
    "                                                   title=f'{Location}: New'),\n",
    "                 Location=picker2)"
   ]
  },
  {
   "cell_type": "code",
   "execution_count": 42,
   "metadata": {},
   "outputs": [
    {
     "data": {
      "application/vnd.jupyter.widget-view+json": {
       "model_id": "610c279e5f7f44ab9f1edcee37ae54b4",
       "version_major": 2,
       "version_minor": 0
      },
      "text/plain": [
       "interactive(children=(Select(description='States', index=48, options=('AL', 'AK', 'AZ', 'AR', 'CA', 'CO', 'CT'…"
      ]
     },
     "metadata": {},
     "output_type": "display_data"
    },
    {
     "data": {
      "text/plain": [
       "<function __main__.<lambda>(Location)>"
      ]
     },
     "execution_count": 42,
     "metadata": {},
     "output_type": "execute_result"
    }
   ],
   "source": [
    "widgets.interact(lambda Location: plot_time_series(aggregate_for_locations(df, 'US', sub_locs=states[Location], how='new-7day'), \n",
    "                                                   title=f'{Location}: New (Rolling Weekly Average)'),\n",
    "                 Location=picker2)"
   ]
  },
  {
   "cell_type": "code",
   "execution_count": 43,
   "metadata": {},
   "outputs": [
    {
     "data": {
      "application/vnd.jupyter.widget-view+json": {
       "model_id": "2298a593d0714f3a9f5bd138e463ca72",
       "version_major": 2,
       "version_minor": 0
      },
      "text/plain": [
       "interactive(children=(Select(description='States', index=48, options=('AL', 'AK', 'AZ', 'AR', 'CA', 'CO', 'CT'…"
      ]
     },
     "metadata": {},
     "output_type": "display_data"
    },
    {
     "data": {
      "text/plain": [
       "<function __main__.<lambda>(Location)>"
      ]
     },
     "execution_count": 43,
     "metadata": {},
     "output_type": "execute_result"
    }
   ],
   "source": [
    "widgets.interact(lambda Location: plot_time_series(aggregate_for_locations(df, 'US', sub_locs=states[Location], fields=['Deaths'], how='new'), \n",
    "                                                   title=f'{Location}: New'),\n",
    "                 Location=picker2)"
   ]
  },
  {
   "cell_type": "markdown",
   "metadata": {},
   "source": [
    "Now we use the reported deaths to try to infer the actual number infected. We first different curves to the death counts and use that to extrapolate:"
   ]
  },
  {
   "cell_type": "code",
   "execution_count": 44,
   "metadata": {},
   "outputs": [],
   "source": [
    "def exponential(x, a):\n",
    "    return a ** x\n",
    "\n",
    "\n",
    "def power(x, a):\n",
    "    return x ** a\n",
    "\n",
    "\n",
    "def sigmoid(x, L ,x0, k, b):\n",
    "    y = L / (1 + np.exp(-k*(x-x0)))+b\n",
    "    return (y)\n",
    "\n",
    "\n",
    "def sigmoid_init(x, y):\n",
    "    return [max(y), np.median(x), 1, min(y)] # initial guess\n",
    "\n",
    "\n",
    "# It takes on average 5 days to show symptoms. Typically 14 days from that to death.\n",
    "# So it seems reasonable to say that people infected on day x will die around day x + 19\n",
    "# So if we extrapolate the death rate by 15 days, we can approximate how many are infected \n",
    "# now after adjusting for fatality rate.\n",
    "\n",
    "def predict_from_death_rate(region=None, \n",
    "                            fatality_rate=mortality_rate, \n",
    "                            death_time=days_to_first_symptom+days_from_first_symptom_to_death, \n",
    "                            fn=exponential, \n",
    "                            init=None):\n",
    "    if region is None:\n",
    "        region = 'US'\n",
    "        \n",
    "    deaths = aggregate_for_locations(df, region, how='cumulative')['Deaths']\n",
    "    deaths = list(deaths[deaths > 0])\n",
    "    \n",
    "    x = range(1, len(deaths)+1)\n",
    "    y = deaths\n",
    "    \n",
    "    if not y:\n",
    "        print(f\"Insufficient data for {region}\")\n",
    "        return\n",
    "    \n",
    "    if init:\n",
    "        p0 = init(x, y)\n",
    "        a, pcov = curve_fit(fn, x, y, p0, method='trf')\n",
    "    else:\n",
    "        a, pcov = curve_fit(fn, x, y)\n",
    "\n",
    "    #a, pcov = curve_fit(fn, x[:-1], y[:-1])  # useful for seeing if latest data point is still aligned with curve\n",
    "\n",
    "    plt.figure()\n",
    "    plt.plot(x, y, 'ko', label=f\"{region} Actual Deaths\")\n",
    "    plt.plot(x, fn(x, *a), 'r-', label=\"Fitted Curve\")\n",
    "    plt.legend()\n",
    "    plt.show()\n",
    "    \n",
    "    forecast_deaths = fn(x[-1] + death_time, *a)\n",
    "    predicted_infected = forecast_deaths * 100 / fatality_rate\n",
    "    print(f'Predicted infected {int(predicted_infected)} leading to {int(forecast_deaths)} deaths in {death_time} days\\nParams: {\", \".join([str(aa) for aa in a])}')\n",
    "    print(f'One year deaths: {fn(356, *a)}')"
   ]
  },
  {
   "cell_type": "code",
   "execution_count": 45,
   "metadata": {},
   "outputs": [
    {
     "data": {
      "application/vnd.jupyter.widget-view+json": {
       "model_id": "2d947278058d48f08a0522b667625ce3",
       "version_major": 2,
       "version_minor": 0
      },
      "text/plain": [
       "interactive(children=(SelectMultiple(description='Locations', index=(219,), options=(' Azerbaijan', 'Afghanist…"
      ]
     },
     "metadata": {},
     "output_type": "display_data"
    },
    {
     "data": {
      "text/plain": [
       "<function __main__.<lambda>(Location)>"
      ]
     },
     "execution_count": 45,
     "metadata": {},
     "output_type": "execute_result"
    }
   ],
   "source": [
    "widgets.interact(lambda Location: predict_from_death_rate(Location),\n",
    "                 Location=picker)"
   ]
  },
  {
   "cell_type": "code",
   "execution_count": 46,
   "metadata": {},
   "outputs": [
    {
     "data": {
      "application/vnd.jupyter.widget-view+json": {
       "model_id": "8d42028550384f67b0e097052abf9dab",
       "version_major": 2,
       "version_minor": 0
      },
      "text/plain": [
       "interactive(children=(SelectMultiple(description='Locations', index=(219,), options=(' Azerbaijan', 'Afghanist…"
      ]
     },
     "metadata": {},
     "output_type": "display_data"
    },
    {
     "data": {
      "text/plain": [
       "<function __main__.<lambda>(Location)>"
      ]
     },
     "execution_count": 46,
     "metadata": {},
     "output_type": "execute_result"
    }
   ],
   "source": [
    "widgets.interact(lambda Location: predict_from_death_rate(Location, fn=power),\n",
    "                 Location=picker)"
   ]
  },
  {
   "cell_type": "code",
   "execution_count": 47,
   "metadata": {},
   "outputs": [
    {
     "data": {
      "application/vnd.jupyter.widget-view+json": {
       "model_id": "2b69a6c17bfa4cb2bfb8374dc52ba184",
       "version_major": 2,
       "version_minor": 0
      },
      "text/plain": [
       "interactive(children=(SelectMultiple(description='Locations', index=(219,), options=(' Azerbaijan', 'Afghanist…"
      ]
     },
     "metadata": {},
     "output_type": "display_data"
    },
    {
     "data": {
      "text/plain": [
       "<function __main__.<lambda>(Location)>"
      ]
     },
     "execution_count": 47,
     "metadata": {},
     "output_type": "execute_result"
    }
   ],
   "source": [
    "#### Sigmoid version should be better for places that are flattening the curve or reaching saturation\n",
    "\n",
    "widgets.interact(lambda Location: predict_from_death_rate(Location, fn=sigmoid, init=sigmoid_init),\n",
    "                 Location=picker)"
   ]
  },
  {
   "cell_type": "code",
   "execution_count": 48,
   "metadata": {},
   "outputs": [
    {
     "data": {
      "text/html": [
       "<div>\n",
       "<style scoped>\n",
       "    .dataframe tbody tr th:only-of-type {\n",
       "        vertical-align: middle;\n",
       "    }\n",
       "\n",
       "    .dataframe tbody tr th {\n",
       "        vertical-align: top;\n",
       "    }\n",
       "\n",
       "    .dataframe thead th {\n",
       "        text-align: right;\n",
       "    }\n",
       "</style>\n",
       "<table border=\"1\" class=\"dataframe\">\n",
       "  <thead>\n",
       "    <tr style=\"text-align: right;\">\n",
       "      <th></th>\n",
       "      <th>Unnamed: 0</th>\n",
       "      <th>Province/State</th>\n",
       "      <th>Country/Region</th>\n",
       "      <th>Confirmed</th>\n",
       "      <th>Deaths</th>\n",
       "      <th>Recovered</th>\n",
       "      <th>Date</th>\n",
       "      <th>Latitude</th>\n",
       "      <th>Longitude</th>\n",
       "      <th>FIPS</th>\n",
       "      <th>...</th>\n",
       "      <th>Last_Update</th>\n",
       "      <th>Lat</th>\n",
       "      <th>Long_</th>\n",
       "      <th>Active</th>\n",
       "      <th>Combined_Key</th>\n",
       "      <th>Incident_Rate</th>\n",
       "      <th>People_Tested</th>\n",
       "      <th>People_Hospitalized</th>\n",
       "      <th>UID</th>\n",
       "      <th>ISO3</th>\n",
       "    </tr>\n",
       "  </thead>\n",
       "  <tbody>\n",
       "  </tbody>\n",
       "</table>\n",
       "<p>0 rows × 21 columns</p>\n",
       "</div>"
      ],
      "text/plain": [
       "Empty DataFrame\n",
       "Columns: [Unnamed: 0, Province/State, Country/Region, Confirmed, Deaths, Recovered, Date, Latitude, Longitude, FIPS, Admin2, Last_Update, Lat, Long_, Active, Combined_Key, Incident_Rate, People_Tested, People_Hospitalized, UID, ISO3]\n",
       "Index: []\n",
       "\n",
       "[0 rows x 21 columns]"
      ]
     },
     "execution_count": 48,
     "metadata": {},
     "output_type": "execute_result"
    }
   ],
   "source": [
    "# Sanity check to make sure we loaded todays data\n",
    "df[df['Date'] == date.today]"
   ]
  },
  {
   "cell_type": "code",
   "execution_count": 49,
   "metadata": {},
   "outputs": [
    {
     "data": {
      "application/vnd.jupyter.widget-view+json": {
       "model_id": "26d7d089382c4384bfafc88ed679d079",
       "version_major": 2,
       "version_minor": 0
      },
      "text/plain": [
       "interactive(children=(SelectMultiple(description='Locations', index=(219,), options=(' Azerbaijan', 'Afghanist…"
      ]
     },
     "metadata": {},
     "output_type": "display_data"
    },
    {
     "data": {
      "text/plain": [
       "<function __main__.<lambda>(Location)>"
      ]
     },
     "execution_count": 49,
     "metadata": {},
     "output_type": "execute_result"
    }
   ],
   "source": [
    "# Calculate actual mortality rate\n",
    "\n",
    "\n",
    "def calc_mortality_rate(loc):\n",
    "    data = aggregate_for_locations(df, loc)\n",
    "    result = []\n",
    "    end = datetime.today() + timedelta(days=1)\n",
    "    end = date(end.year, end.month, end.day)\n",
    "    try:\n",
    "        data.loc[end]\n",
    "    except Exception:\n",
    "        end -= timedelta(days=1)  # don't have today yet\n",
    "\n",
    "    for days in range(1, days_from_first_symptom_to_death + 1):\n",
    "        start = end - timedelta(days=days)\n",
    "        try:\n",
    "            # Use a 3 day count for better average\n",
    "            deaths, initial = 0, 0\n",
    "            for delta in range(3):\n",
    "                deaths += data.loc[end - timedelta(days=delta)]['Deaths']\n",
    "                initial += data.loc[start - timedelta(days=delta)]['Confirmed']\n",
    "                \n",
    "            rate = deaths / initial if initial else 0\n",
    "            result.append(\n",
    "                {\n",
    "                    'days': days, # average number of days between confirmation and death; \n",
    "                                  # this is not really known and varies between countries\n",
    "                                  # hence we output a table. Countres like Italy are overwhelmed\n",
    "                                  # and testing mostly very sick patients so the number is smaller\n",
    "                                  # than countries like Germany or SK that are doing a lot of\n",
    "                                  # pre-emptive testing.\n",
    "                    'start': start, # average date of confirmation for cases that died on date 'end' and the two days prior\n",
    "                    'end': end,   # date of death (plus the two days prior)\n",
    "                    'confirmed': initial, # count of the confirmed cases in the 3 day window ending at 'start'\n",
    "                    'deaths': deaths, # count of the deceased in the 3 day window ending at 'end'\n",
    "                    'rate': rate  # effective mortality rate for this case\n",
    "                }\n",
    "            )\n",
    "        except Exception:\n",
    "            pass\n",
    "\n",
    "    return pd.DataFrame(result)\n",
    "\n",
    "widgets.interact(lambda Location: calc_mortality_rate(Location), Location=picker)\n"
   ]
  },
  {
   "cell_type": "code",
   "execution_count": 50,
   "metadata": {},
   "outputs": [
    {
     "data": {
      "application/vnd.jupyter.widget-view+json": {
       "model_id": "f26cf09eccb744c8a8a07c0d4f9d24b6",
       "version_major": 2,
       "version_minor": 0
      },
      "text/plain": [
       "interactive(children=(SelectMultiple(description='Locations', index=(219,), options=(' Azerbaijan', 'Afghanist…"
      ]
     },
     "metadata": {},
     "output_type": "display_data"
    },
    {
     "data": {
      "text/plain": [
       "<function __main__.<lambda>(Location)>"
      ]
     },
     "execution_count": 50,
     "metadata": {},
     "output_type": "execute_result"
    }
   ],
   "source": [
    "# Another way of estimating fatality rate is to take #deaths and #recovered 2 weeks later\n",
    "# (assuming patients need to be clear for two weeks to be declared recovered) and sum those \n",
    "# for the denominator. This is likely an overestimate as the recovery count will exclude people\n",
    "# who were never tested and recovered. Would likely worked best in places with good testing\n",
    "# regimens.\n",
    "\n",
    "def calc_mortality_rate2(loc):\n",
    "    data = aggregate_for_locations(df, loc)\n",
    "    result = []\n",
    "    end = datetime.today() + timedelta(days=1)\n",
    "    end = date(end.year, end.month, end.day)\n",
    "    try:\n",
    "        data.loc[end]\n",
    "    except Exception:\n",
    "        end -= timedelta(days=1)  # don't have today yet\n",
    "\n",
    "    result = []\n",
    "    for days in range(14):\n",
    "        start = end - timedelta(days=days)\n",
    "    \n",
    "        died, recovered = 0, 0\n",
    "        # Use a 3 day count for better average\n",
    "        for delta in range(3):\n",
    "            died += data.loc[start - timedelta(days=delta)]['Deaths']\n",
    "            recovered += data.loc[end - timedelta(days=delta)]['Recovered']\n",
    "        if died or recovered:\n",
    "            rate = died/(died + recovered) if died or recovered else 0\n",
    "            result.append({\n",
    "                'days': days,\n",
    "                'died': died,\n",
    "                'recovered': recovered,\n",
    "                'rate': rate\n",
    "            })\n",
    "    return pd.DataFrame(result)\n",
    "\n",
    "\n",
    "widgets.interact(lambda Location: calc_mortality_rate2(Location), Location=picker)"
   ]
  },
  {
   "cell_type": "code",
   "execution_count": 51,
   "metadata": {},
   "outputs": [],
   "source": [
    "def model_SIR(N, R0=6.7, days=19):\n",
    "    # N - population size\n",
    "    # beta - contact rate rate\n",
    "    # R0 is infection rate.\n",
    "    # Low estimate for R0 is 2.2; high is 6.7\n",
    "    # See https://sarahwestall.com/covid-19-has-much-higher-r0-value-than-originally-reported/\n",
    "    # days is number of days a person is infectious\n",
    "    # Estimate beta. Someone is infectious for gamma days and in that time infect R0 others\n",
    "    # We assume that all of those are susceptible.\n",
    "    # So beta = R0 / days\n",
    "    \n",
    "    gamma = 1 / days\n",
    "    beta = R0 / days\n",
    "    I_0, R_0 = 1, 0 # Initial number of infected and recovered individuals, I_0 and R_0.\n",
    "    S_0 = N - I_0 - R_0 # Everyone else, S_0, is susceptible to infection initially.\n",
    "\n",
    "    # A grid of time points (in days)\n",
    "    t = np.linspace(0, 1000 / R0, 1000 / R0)\n",
    "\n",
    "    # The SIR model differential equations.\n",
    "    def deriv(y, t, N, beta, gamma):\n",
    "        S, I, R = y\n",
    "        dSdt = -beta * S * I / N\n",
    "        dIdt = beta * S * I / N - gamma * I\n",
    "        dRdt = gamma * I\n",
    "        return dSdt, dIdt, dRdt\n",
    "\n",
    "    # Initial conditions vector\n",
    "    y_0 = S_0, I_0, R_0\n",
    "    # Integrate the SIR equations over the time grid, t.\n",
    "    ret = odeint(deriv, y_0, t, args=(N, beta, gamma))\n",
    "    S, I, R = ret.T\n",
    "    return S, I, R, t\n",
    "\n",
    "\n",
    "def plot_SIR(S, I, R, t, N):\n",
    "    # Plot the data on three separate curves for S(t), I(t) and R(t)\n",
    "    fig = plt.figure(facecolor='w')\n",
    "    ax = fig.add_subplot(111, axisbelow=True) #axis_bgcolor='#dddddd', axisbelow=True)\n",
    "    if N > 100000000:\n",
    "        lbl = 'billions'\n",
    "        scale = 1000000000\n",
    "    elif N > 10000000:\n",
    "        lbl = '100 millions'\n",
    "        scale = 100000000\n",
    "    elif N > 1000000:\n",
    "        lbl = '10 millions'\n",
    "        scale = 10000000\n",
    "    elif N > 100000:\n",
    "        lbl = 'millions'\n",
    "        scale = 1000000\n",
    "    elif N > 10000:\n",
    "        lbl = '100ks'\n",
    "        scale = 100000\n",
    "    elif N > 1000:\n",
    "        lbl = '10ks'\n",
    "        scale = 10000\n",
    "    else:\n",
    "        lbl = '1000s'\n",
    "        scale = 1000\n",
    "\n",
    "    ax.plot(t, S/scale, 'b', alpha=0.5, lw=2, label='Susceptible')\n",
    "    ax.plot(t, I/scale, 'r', alpha=0.5, lw=2, label='Infected')\n",
    "    ax.plot(t, R/scale, 'g', alpha=0.5, lw=2, label='Recovered with immunity')\n",
    "    ax.set_xlabel('Time /days')\n",
    "    ax.set_ylabel(f'Number ({lbl})')\n",
    "    ax.set_ylim(0,1.2)\n",
    "    ax.yaxis.set_tick_params(length=0)\n",
    "    ax.xaxis.set_tick_params(length=0)\n",
    "    ax.grid(b=True, which='major', c='w', lw=2, ls='-')\n",
    "    legend = ax.legend()\n",
    "    legend.get_frame().set_alpha(0.5)\n",
    "    for spine in ('top', 'right', 'bottom', 'left'):\n",
    "        ax.spines[spine].set_visible(False)\n",
    "    plt.show()"
   ]
  },
  {
   "cell_type": "code",
   "execution_count": 52,
   "metadata": {},
   "outputs": [
    {
     "ename": "TypeError",
     "evalue": "object of type <class 'float'> cannot be safely interpreted as an integer.",
     "output_type": "error",
     "traceback": [
      "\u001b[0;31m---------------------------------------------------------------------------\u001b[0m",
      "\u001b[0;31mTypeError\u001b[0m                                 Traceback (most recent call last)",
      "\u001b[0;32m~/.pyenv/versions/3.8.0/envs/scratch3.8/lib/python3.8/site-packages/numpy/core/function_base.py\u001b[0m in \u001b[0;36mlinspace\u001b[0;34m(start, stop, num, endpoint, retstep, dtype, axis)\u001b[0m\n\u001b[1;32m    116\u001b[0m     \u001b[0;32mtry\u001b[0m\u001b[0;34m:\u001b[0m\u001b[0;34m\u001b[0m\u001b[0;34m\u001b[0m\u001b[0m\n\u001b[0;32m--> 117\u001b[0;31m         \u001b[0mnum\u001b[0m \u001b[0;34m=\u001b[0m \u001b[0moperator\u001b[0m\u001b[0;34m.\u001b[0m\u001b[0mindex\u001b[0m\u001b[0;34m(\u001b[0m\u001b[0mnum\u001b[0m\u001b[0;34m)\u001b[0m\u001b[0;34m\u001b[0m\u001b[0;34m\u001b[0m\u001b[0m\n\u001b[0m\u001b[1;32m    118\u001b[0m     \u001b[0;32mexcept\u001b[0m \u001b[0mTypeError\u001b[0m\u001b[0;34m:\u001b[0m\u001b[0;34m\u001b[0m\u001b[0;34m\u001b[0m\u001b[0m\n",
      "\u001b[0;31mTypeError\u001b[0m: 'float' object cannot be interpreted as an integer",
      "\nDuring handling of the above exception, another exception occurred:\n",
      "\u001b[0;31mTypeError\u001b[0m                                 Traceback (most recent call last)",
      "\u001b[0;32m<ipython-input-52-6d3efbd715e0>\u001b[0m in \u001b[0;36m<module>\u001b[0;34m\u001b[0m\n\u001b[1;32m      1\u001b[0m \u001b[0mN\u001b[0m \u001b[0;34m=\u001b[0m \u001b[0;36m1000000\u001b[0m\u001b[0;34m\u001b[0m\u001b[0;34m\u001b[0m\u001b[0m\n\u001b[0;32m----> 2\u001b[0;31m \u001b[0mS\u001b[0m\u001b[0;34m,\u001b[0m\u001b[0mI\u001b[0m\u001b[0;34m,\u001b[0m\u001b[0mR\u001b[0m\u001b[0;34m,\u001b[0m \u001b[0mt\u001b[0m \u001b[0;34m=\u001b[0m \u001b[0mmodel_SIR\u001b[0m\u001b[0;34m(\u001b[0m\u001b[0mN\u001b[0m\u001b[0;34m)\u001b[0m\u001b[0;34m\u001b[0m\u001b[0;34m\u001b[0m\u001b[0m\n\u001b[0m\u001b[1;32m      3\u001b[0m \u001b[0mplot_SIR\u001b[0m\u001b[0;34m(\u001b[0m\u001b[0mS\u001b[0m\u001b[0;34m,\u001b[0m \u001b[0mI\u001b[0m\u001b[0;34m,\u001b[0m \u001b[0mR\u001b[0m\u001b[0;34m,\u001b[0m \u001b[0mt\u001b[0m\u001b[0;34m,\u001b[0m \u001b[0mN\u001b[0m\u001b[0;34m)\u001b[0m\u001b[0;34m\u001b[0m\u001b[0;34m\u001b[0m\u001b[0m\n",
      "\u001b[0;32m<ipython-input-51-3405256d7392>\u001b[0m in \u001b[0;36mmodel_SIR\u001b[0;34m(N, R0, days)\u001b[0m\n\u001b[1;32m     16\u001b[0m \u001b[0;34m\u001b[0m\u001b[0m\n\u001b[1;32m     17\u001b[0m     \u001b[0;31m# A grid of time points (in days)\u001b[0m\u001b[0;34m\u001b[0m\u001b[0;34m\u001b[0m\u001b[0;34m\u001b[0m\u001b[0m\n\u001b[0;32m---> 18\u001b[0;31m     \u001b[0mt\u001b[0m \u001b[0;34m=\u001b[0m \u001b[0mnp\u001b[0m\u001b[0;34m.\u001b[0m\u001b[0mlinspace\u001b[0m\u001b[0;34m(\u001b[0m\u001b[0;36m0\u001b[0m\u001b[0;34m,\u001b[0m \u001b[0;36m1000\u001b[0m \u001b[0;34m/\u001b[0m \u001b[0mR0\u001b[0m\u001b[0;34m,\u001b[0m \u001b[0;36m1000\u001b[0m \u001b[0;34m/\u001b[0m \u001b[0mR0\u001b[0m\u001b[0;34m)\u001b[0m\u001b[0;34m\u001b[0m\u001b[0;34m\u001b[0m\u001b[0m\n\u001b[0m\u001b[1;32m     19\u001b[0m \u001b[0;34m\u001b[0m\u001b[0m\n\u001b[1;32m     20\u001b[0m     \u001b[0;31m# The SIR model differential equations.\u001b[0m\u001b[0;34m\u001b[0m\u001b[0;34m\u001b[0m\u001b[0;34m\u001b[0m\u001b[0m\n",
      "\u001b[0;32m<__array_function__ internals>\u001b[0m in \u001b[0;36mlinspace\u001b[0;34m(*args, **kwargs)\u001b[0m\n",
      "\u001b[0;32m~/.pyenv/versions/3.8.0/envs/scratch3.8/lib/python3.8/site-packages/numpy/core/function_base.py\u001b[0m in \u001b[0;36mlinspace\u001b[0;34m(start, stop, num, endpoint, retstep, dtype, axis)\u001b[0m\n\u001b[1;32m    117\u001b[0m         \u001b[0mnum\u001b[0m \u001b[0;34m=\u001b[0m \u001b[0moperator\u001b[0m\u001b[0;34m.\u001b[0m\u001b[0mindex\u001b[0m\u001b[0;34m(\u001b[0m\u001b[0mnum\u001b[0m\u001b[0;34m)\u001b[0m\u001b[0;34m\u001b[0m\u001b[0;34m\u001b[0m\u001b[0m\n\u001b[1;32m    118\u001b[0m     \u001b[0;32mexcept\u001b[0m \u001b[0mTypeError\u001b[0m\u001b[0;34m:\u001b[0m\u001b[0;34m\u001b[0m\u001b[0;34m\u001b[0m\u001b[0m\n\u001b[0;32m--> 119\u001b[0;31m         raise TypeError(\n\u001b[0m\u001b[1;32m    120\u001b[0m             \u001b[0;34m\"object of type {} cannot be safely interpreted as an integer.\"\u001b[0m\u001b[0;34m\u001b[0m\u001b[0;34m\u001b[0m\u001b[0m\n\u001b[1;32m    121\u001b[0m                 .format(type(num)))\n",
      "\u001b[0;31mTypeError\u001b[0m: object of type <class 'float'> cannot be safely interpreted as an integer."
     ]
    }
   ],
   "source": [
    "N = 1000000\n",
    "S,I,R, t = model_SIR(N)\n",
    "plot_SIR(S, I, R, t, N)"
   ]
  },
  {
   "cell_type": "code",
   "execution_count": null,
   "metadata": {},
   "outputs": [],
   "source": [
    "def get_best_SIR(loc):\n",
    "    # In thousands:\n",
    "    populations = {\n",
    "        'China': 1400000,\n",
    "        'India': 1360000,\n",
    "        'US': 330000,\n",
    "        'Indonesia': 267000,\n",
    "        'Pakistan': 220000,\n",
    "        'Brazil': 212000,\n",
    "        'Nigeria': 206000,\n",
    "        'Bangladesh': 168000,\n",
    "        'Russia': 147000,\n",
    "        'Mexico': 127000,\n",
    "        'Japan': 126000,\n",
    "        'Philippines': 108000,\n",
    "        'Egypt': 100000\n",
    "    }\n",
    "    if loc in populations:\n",
    "        scale = populations[loc]\n",
    "    else:\n",
    "        scale = 100000\n",
    "    \n",
    "    conf = aggregate_for_locations(df, loc, how='new')['Confirmed']\n",
    "    last = conf[-1]\n",
    "    \n",
    "    candidates = []\n",
    "    \n",
    "    for N in range(scale*1000, scale*100000, scale*1000):\n",
    "        R0 = 2.0\n",
    "        while R0 < 7.0:\n",
    "            S,I,R,t = model_SIR(N, R0)\n",
    "            \n",
    "            # Now find the closest value in I to the last value in conf\n",
    "            # We'll treat this as\n",
    "            # the point of correlation. Get that date.\n",
    "            best = None\n",
    "            for i in range(1, len(I)):\n",
    "                if I[i-1] < last < I[i]:\n",
    "                    best = i\n",
    "                    break\n",
    "                #elif I[i-1] > I[i]:  # on the descent; no-one is there yet\n",
    "                #    break\n",
    "            #print(f'N {N}, R0 {R0}, lenC {len(conf)}, best {best}, lenI {len(I)}')\n",
    "            if not best or best < len(conf):  # Also not a good fit as we should include the start of the curve\n",
    "                R0 += 0.2\n",
    "                continue\n",
    "\n",
    "            # Calculate MSE of the two series to this point\n",
    "            mse = 0\n",
    "            for i in range(len(conf)):\n",
    "                #print(f'lenC {len(conf)}, i {i}, best {best}, lenI {len(I)}')\n",
    "                delta = I[best-i] - conf.iloc[-i-1]\n",
    "                mse += delta * delta\n",
    "                \n",
    "            candidates.append((mse, N, R0, best))\n",
    "            R0 += 0.2\n",
    "\n",
    "    candidates.sort(key=lambda tup: tup[0])\n",
    "    N = candidates[0][1]\n",
    "    R0 = candidates[0][2]\n",
    "    best = candidates[0][3]\n",
    "    S,I,R,t = model_SIR(N, R0)\n",
    "    return S, I, R, t, N, R0, best, conf\n"
   ]
  },
  {
   "cell_type": "code",
   "execution_count": null,
   "metadata": {},
   "outputs": [],
   "source": [
    "S, I, R, t, N, R0, best, conf = get_best_SIR('US')"
   ]
  },
  {
   "cell_type": "code",
   "execution_count": null,
   "metadata": {},
   "outputs": [],
   "source": [
    "offset = best - len(conf)\n",
    "offset = 0\n",
    "plot_SIR(S[offset:], I[offset:], R[offset:], t, N)"
   ]
  },
  {
   "cell_type": "code",
   "execution_count": null,
   "metadata": {},
   "outputs": [],
   "source": []
  }
 ],
 "metadata": {
  "kernelspec": {
   "display_name": "Python 3",
   "language": "python",
   "name": "python3"
  },
  "language_info": {
   "codemirror_mode": {
    "name": "ipython",
    "version": 3
   },
   "file_extension": ".py",
   "mimetype": "text/x-python",
   "name": "python",
   "nbconvert_exporter": "python",
   "pygments_lexer": "ipython3",
   "version": "3.8.0"
  }
 },
 "nbformat": 4,
 "nbformat_minor": 2
}
