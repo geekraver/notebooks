{
 "cells": [
  {
   "cell_type": "code",
   "execution_count": 303,
   "metadata": {},
   "outputs": [],
   "source": [
    "from datetime import date, datetime, timedelta\n",
    "import numpy as np\n",
    "import pandas as pd\n",
    "from pandas.plotting import register_matplotlib_converters\n",
    "import matplotlib.pyplot as plt \n",
    "import matplotlib.dates as dates\n",
    "import ipywidgets as widgets\n",
    "from scipy.optimize import curve_fit\n",
    "\n",
    "\n",
    "register_matplotlib_converters()\n",
    "%matplotlib inline"
   ]
  },
  {
   "cell_type": "code",
   "execution_count": 304,
   "metadata": {},
   "outputs": [],
   "source": [
    "df = None\n",
    "last = datetime.now() - timedelta(hours=1)\n",
    "\n",
    "\n",
    "def get_data():\n",
    "    \"\"\"\n",
    "    Get the latest data. Just return the cached copy\n",
    "    if less than one hour has elapsed.\n",
    "    \"\"\"\n",
    "    global last, df\n",
    "    now = datetime.now()\n",
    "    if now - last < timedelta(hours=1):\n",
    "        return df\n",
    "\n",
    "    last = now    \n",
    "    start = date(2020, 1, 22)\n",
    "    end = date.today()\n",
    "\n",
    "    df = pd.DataFrame()\n",
    "    while start <= end:\n",
    "        try:\n",
    "            df_day = pd.read_csv(f'https://raw.githubusercontent.com/CSSEGISandData/COVID-19/master/csse_covid_19_data/csse_covid_19_daily_reports/{start.month:02d}-{start.day:02d}-{start.year}.csv')\n",
    "            df_day['Date'] = start\n",
    "            df = df.append(df_day)\n",
    "        except Exception:\n",
    "            pass\n",
    "        start += timedelta(days=1)\n",
    "    \n",
    "    del df['Last Update']\n",
    "    df = df.replace({'Country/Region': {'Mainland China': 'China'}})\n",
    "    df.fillna({'Province/State': ''}, inplace=True)\n",
    "    for col in ['Confirmed', 'Deaths', 'Recovered']:\n",
    "        df.fillna({col: 0}, inplace=True)\n",
    "    return df"
   ]
  },
  {
   "cell_type": "code",
   "execution_count": 305,
   "metadata": {},
   "outputs": [
    {
     "data": {
      "text/html": [
       "<div>\n",
       "<style scoped>\n",
       "    .dataframe tbody tr th:only-of-type {\n",
       "        vertical-align: middle;\n",
       "    }\n",
       "\n",
       "    .dataframe tbody tr th {\n",
       "        vertical-align: top;\n",
       "    }\n",
       "\n",
       "    .dataframe thead th {\n",
       "        text-align: right;\n",
       "    }\n",
       "</style>\n",
       "<table border=\"1\" class=\"dataframe\">\n",
       "  <thead>\n",
       "    <tr style=\"text-align: right;\">\n",
       "      <th></th>\n",
       "      <th>Confirmed</th>\n",
       "      <th>Country/Region</th>\n",
       "      <th>Date</th>\n",
       "      <th>Deaths</th>\n",
       "      <th>Latitude</th>\n",
       "      <th>Longitude</th>\n",
       "      <th>Province/State</th>\n",
       "      <th>Recovered</th>\n",
       "    </tr>\n",
       "  </thead>\n",
       "  <tbody>\n",
       "    <tr>\n",
       "      <th>304</th>\n",
       "      <td>0.0</td>\n",
       "      <td>Jersey</td>\n",
       "      <td>2020-03-22</td>\n",
       "      <td>0.0</td>\n",
       "      <td>49.1900</td>\n",
       "      <td>-2.110</td>\n",
       "      <td></td>\n",
       "      <td>0.0</td>\n",
       "    </tr>\n",
       "    <tr>\n",
       "      <th>305</th>\n",
       "      <td>0.0</td>\n",
       "      <td>Puerto Rico</td>\n",
       "      <td>2020-03-22</td>\n",
       "      <td>1.0</td>\n",
       "      <td>18.2000</td>\n",
       "      <td>-66.500</td>\n",
       "      <td></td>\n",
       "      <td>0.0</td>\n",
       "    </tr>\n",
       "    <tr>\n",
       "      <th>306</th>\n",
       "      <td>0.0</td>\n",
       "      <td>Republic of the Congo</td>\n",
       "      <td>2020-03-22</td>\n",
       "      <td>0.0</td>\n",
       "      <td>-1.4400</td>\n",
       "      <td>15.556</td>\n",
       "      <td></td>\n",
       "      <td>0.0</td>\n",
       "    </tr>\n",
       "    <tr>\n",
       "      <th>307</th>\n",
       "      <td>0.0</td>\n",
       "      <td>The Bahamas</td>\n",
       "      <td>2020-03-22</td>\n",
       "      <td>0.0</td>\n",
       "      <td>24.2500</td>\n",
       "      <td>-76.000</td>\n",
       "      <td></td>\n",
       "      <td>0.0</td>\n",
       "    </tr>\n",
       "    <tr>\n",
       "      <th>308</th>\n",
       "      <td>0.0</td>\n",
       "      <td>The Gambia</td>\n",
       "      <td>2020-03-22</td>\n",
       "      <td>0.0</td>\n",
       "      <td>13.4667</td>\n",
       "      <td>-16.600</td>\n",
       "      <td></td>\n",
       "      <td>0.0</td>\n",
       "    </tr>\n",
       "  </tbody>\n",
       "</table>\n",
       "</div>"
      ],
      "text/plain": [
       "     Confirmed         Country/Region        Date  Deaths  Latitude  \\\n",
       "304        0.0                 Jersey  2020-03-22     0.0   49.1900   \n",
       "305        0.0            Puerto Rico  2020-03-22     1.0   18.2000   \n",
       "306        0.0  Republic of the Congo  2020-03-22     0.0   -1.4400   \n",
       "307        0.0            The Bahamas  2020-03-22     0.0   24.2500   \n",
       "308        0.0             The Gambia  2020-03-22     0.0   13.4667   \n",
       "\n",
       "     Longitude Province/State  Recovered  \n",
       "304     -2.110                       0.0  \n",
       "305    -66.500                       0.0  \n",
       "306     15.556                       0.0  \n",
       "307    -76.000                       0.0  \n",
       "308    -16.600                       0.0  "
      ]
     },
     "execution_count": 305,
     "metadata": {},
     "output_type": "execute_result"
    }
   ],
   "source": [
    "df = get_data()\n",
    "df.tail(5)"
   ]
  },
  {
   "cell_type": "code",
   "execution_count": 306,
   "metadata": {},
   "outputs": [],
   "source": [
    "def aggregate_for_locations(df, locations, sub_locs=None, do_diffs=True, fields=None):\n",
    "    if fields is None:\n",
    "        fields = ['Confirmed', 'Deaths', 'Recovered']\n",
    "    cols = ['Date']\n",
    "    cols.extend(fields)\n",
    "    \n",
    "    if isinstance(locations, str):\n",
    "        locations = [locations]\n",
    "        \n",
    "    if sub_locs:\n",
    "        in_loc = df[(df['Country/Region'].isin(locations)) & (df['Province/State'].isin(sub_locs))]\n",
    "    else:\n",
    "        in_loc = df[df['Country/Region'].isin(locations)]\n",
    "        \n",
    "    result = in_loc[cols].groupby('Date').sum()\n",
    "    \n",
    "    if do_diffs:\n",
    "        for f in fields:\n",
    "            result[f] = result[f].diff()\n",
    "            result.fillna({f: 0}, inplace=True)\n",
    "    return result\n"
   ]
  },
  {
   "cell_type": "code",
   "execution_count": 307,
   "metadata": {},
   "outputs": [],
   "source": [
    "def plot_time_series(df, title):\n",
    "    fig, ax = plt.subplots()\n",
    "    ax.plot_date(df.index, df, 'v-')\n",
    "    ax.xaxis.set_minor_locator(dates.WeekdayLocator(byweekday=(1), interval=1))\n",
    "    ax.xaxis.set_minor_formatter(dates.DateFormatter('%d\\n%a'))\n",
    "    ax.xaxis.grid(True, which=\"minor\")\n",
    "    ax.yaxis.grid()\n",
    "    ax.xaxis.set_major_locator(dates.MonthLocator())\n",
    "    ax.xaxis.set_major_formatter(dates.DateFormatter('\\n\\n\\n%b\\n%Y'))\n",
    "    ax.legend(df.columns, loc='upper left', shadow=True)\n",
    "    ax.set_title(title)\n",
    "    plt.tight_layout()\n",
    "    return plt"
   ]
  },
  {
   "cell_type": "code",
   "execution_count": 308,
   "metadata": {},
   "outputs": [],
   "source": [
    "locations = sorted(list(df['Country/Region'].unique()))"
   ]
  },
  {
   "cell_type": "code",
   "execution_count": 309,
   "metadata": {},
   "outputs": [],
   "source": [
    "states = {\n",
    "    'AL': ['Alabama'],\n",
    "    'AK': ['Alaska'],\n",
    "    'AZ': ['Arizona'],\n",
    "    'AR': ['Arkansas'],\n",
    "    'CA': ['California'],\n",
    "    'CO': ['Colorado'],\n",
    "    'CT': ['Connecticut'],\n",
    "    'D.C.': ['District of Columbia'],\n",
    "    'DE': ['Delaware'],\n",
    "    'FL': ['Florida'],\n",
    "    'GA': ['Georgia'],\n",
    "    'HI': ['Hawaii'],\n",
    "    'ID': ['Idaho'],\n",
    "    'IL': ['Illinois'],\n",
    "    'IN': ['Indiana'],\n",
    "    'IA': ['Iowa'],\n",
    "    'KS': ['Kansas'],\n",
    "    'KY': ['Kentucky'],\n",
    "    'LA': ['Louisiana'],\n",
    "    'ME': ['Maine'],\n",
    "    'MD': ['Maryland'],\n",
    "    'MA': ['Massachusetts'],\n",
    "    'MI': ['Michigan'],\n",
    "    'MN': ['Minnesota'],\n",
    "    'MS': ['Mississippi'],\n",
    "    'MO': ['Missouri'],\n",
    "    'MT': ['Montana'],\n",
    "    'NE': ['Nebraska'],\n",
    "    'NV': ['Nevada'],\n",
    "    'NH': ['New Hampshire'],\n",
    "    'NJ': ['New Jersey'],\n",
    "    'NM': ['New Mexico'],\n",
    "    'NY': ['New York'],\n",
    "    'NC': ['North Carolina'],\n",
    "    'ND': ['North Dakota'],\n",
    "    'OH': ['Ohio'],\n",
    "    'OK': ['Oklahoma'],\n",
    "    'OR': ['Oregon'],\n",
    "    'PA': ['Pennsylvania'],\n",
    "    'PR': ['Puerto Rico'],\n",
    "    'RI': ['Rhode Island'],\n",
    "    'SC': ['South Carolina'],\n",
    "    'SD': ['South Dakota'],\n",
    "    'TN': ['Tennessee'],\n",
    "    'TX': ['Texas'],\n",
    "    'UT': ['Utah'],\n",
    "    'VT': ['Vermont'],\n",
    "    'VA': ['Virginia'],\n",
    "    'WA': ['Washington'],\n",
    "    'WV': ['West Virginia'],\n",
    "    'WI': ['Wisconsin'],\n",
    "    'WY': ['Wyoming'],\n",
    "    'U.S.': [] # other territories\n",
    "}\n",
    "\n",
    "# Extend the above with all the counties/cities that were broken out separately\n",
    "for s in df[df['Country/Region'] == 'US']['Province/State'].unique():\n",
    "    i = s.find(',')\n",
    "    if i < 0:\n",
    "        continue\n",
    "    st = s[i+2:i+5].strip()\n",
    "    if st not in states:\n",
    "        st += '.'\n",
    "        if st not in states:\n",
    "            print(f'Failed with {s}/{st}')\n",
    "            continue\n",
    "    states[st].append(s)\n"
   ]
  },
  {
   "cell_type": "code",
   "execution_count": 310,
   "metadata": {},
   "outputs": [],
   "source": [
    "picker = widgets.SelectMultiple(\n",
    "                        options=locations,\n",
    "                        value=['US'],\n",
    "                        description='Locations'\n",
    "                )"
   ]
  },
  {
   "cell_type": "code",
   "execution_count": 311,
   "metadata": {},
   "outputs": [
    {
     "data": {
      "application/vnd.jupyter.widget-view+json": {
       "model_id": "7b322b4aecce423687e53cde1ae300ea",
       "version_major": 2,
       "version_minor": 0
      },
      "text/plain": [
       "interactive(children=(SelectMultiple(description='Locations', index=(200,), options=(' Azerbaijan', 'Afghanist…"
      ]
     },
     "metadata": {},
     "output_type": "display_data"
    },
    {
     "data": {
      "text/plain": [
       "<function __main__.<lambda>(Location)>"
      ]
     },
     "execution_count": 311,
     "metadata": {},
     "output_type": "execute_result"
    }
   ],
   "source": [
    "widgets.interact(lambda Location: plot_time_series(aggregate_for_locations(df, Location, do_diffs=False), \n",
    "                                                   title=f'{\" \".join(Location)}: Cumulative'),\n",
    "                 Location=picker)"
   ]
  },
  {
   "cell_type": "code",
   "execution_count": 312,
   "metadata": {},
   "outputs": [
    {
     "data": {
      "application/vnd.jupyter.widget-view+json": {
       "model_id": "124f1850ef17405da238e2a69b3d3210",
       "version_major": 2,
       "version_minor": 0
      },
      "text/plain": [
       "interactive(children=(SelectMultiple(description='Locations', index=(200,), options=(' Azerbaijan', 'Afghanist…"
      ]
     },
     "metadata": {},
     "output_type": "display_data"
    },
    {
     "data": {
      "text/plain": [
       "<function __main__.<lambda>(Location)>"
      ]
     },
     "execution_count": 312,
     "metadata": {},
     "output_type": "execute_result"
    }
   ],
   "source": [
    "widgets.interact(lambda Location: plot_time_series(aggregate_for_locations(df, Location), \n",
    "                                                   title=f'{\" \".join(Location)}: New'),\n",
    "                 Location=picker)"
   ]
  },
  {
   "cell_type": "code",
   "execution_count": 313,
   "metadata": {},
   "outputs": [
    {
     "data": {
      "application/vnd.jupyter.widget-view+json": {
       "model_id": "678eeb314cad47e4a1a544a41e6304a1",
       "version_major": 2,
       "version_minor": 0
      },
      "text/plain": [
       "interactive(children=(Select(description='States', index=48, options=('AL', 'AK', 'AZ', 'AR', 'CA', 'CO', 'CT'…"
      ]
     },
     "metadata": {},
     "output_type": "display_data"
    },
    {
     "data": {
      "text/plain": [
       "<function __main__.<lambda>(Location)>"
      ]
     },
     "execution_count": 313,
     "metadata": {},
     "output_type": "execute_result"
    }
   ],
   "source": [
    "picker2 = widgets.Select(\n",
    "                        options=states.keys(),\n",
    "                        value='WA',\n",
    "                        description='States'\n",
    "                )\n",
    "widgets.interact(lambda Location: plot_time_series(aggregate_for_locations(df, 'US', sub_locs=states[Location], do_diffs=False), \n",
    "                                                   title=f'{Location}: Cumulative'),\n",
    "                 Location=picker2)"
   ]
  },
  {
   "cell_type": "code",
   "execution_count": 332,
   "metadata": {},
   "outputs": [],
   "source": [
    "def exponential(x, a):\n",
    "    \" Exponential\"\n",
    "    return a ** x\n",
    "\n",
    "\n",
    "def sigmoid(x, L ,x0, k, b):\n",
    "    y = L / (1 + np.exp(-k*(x-x0)))+b\n",
    "    return (y)\n",
    "\n",
    "\n",
    "def sigmoid_init(x, y):\n",
    "    return [max(y), np.median(x), 1, min(y)] # initial guess\n",
    "\n",
    "\n",
    "# It takes on average 5 days to show symptoms. Typically 14 days from that to death.\n",
    "# So it seems reasonable to say that people infected on day x will die around day x + 19\n",
    "# So if we extrapolate the death rate by 15 days, we can approximate how many are infected \n",
    "# now after adjusting for fatality rate.\n",
    "\n",
    "def predict_from_death_rate(region=None, fatality_rate=3, death_time=19, fn=exponential, init=None):\n",
    "    if region is None:\n",
    "        region = 'US'\n",
    "        \n",
    "    deaths = aggregate_for_locations(df, region, do_diffs=False)['Deaths']\n",
    "    deaths = list(deaths[deaths > 0])\n",
    "    \n",
    "    x = range(1, len(deaths)+1)\n",
    "    y = deaths\n",
    "    \n",
    "    if not y:\n",
    "        print(f\"Insuffienct data for {region}\")\n",
    "        return\n",
    "    \n",
    "    if init:\n",
    "        p0 = init(x, y)\n",
    "        a, pcov = curve_fit(fn, x, y, p0, method='dogbox')\n",
    "    else:\n",
    "        a, pcov = curve_fit(fn, x, y)\n",
    "\n",
    "    #a, pcov = curve_fit(fn, x[:-1], y[:-1])  # useful for seeing if latest data point is still aligned with curve\n",
    "\n",
    "\n",
    "    plt.figure()\n",
    "    plt.plot(x, y, 'ko', label=f\"{region} Actual Deaths\")\n",
    "    plt.plot(x, fn(x, *a), 'r-', label=\"Fitted Curve\")\n",
    "    plt.legend()\n",
    "    plt.show()\n",
    "    \n",
    "    forecast_deaths = fn(x[-1] + death_time, *a)\n",
    "    predicted_infected = forecast_deaths * 100 / fatality_rate\n",
    "    print(f'Predicted infected {int(predicted_infected)} leading to {int(forecast_deaths)} deaths in {death_time} days')\n"
   ]
  },
  {
   "cell_type": "code",
   "execution_count": 333,
   "metadata": {},
   "outputs": [
    {
     "data": {
      "application/vnd.jupyter.widget-view+json": {
       "model_id": "df743baf28fe4b89bc3a25d616020e5a",
       "version_major": 2,
       "version_minor": 0
      },
      "text/plain": [
       "interactive(children=(SelectMultiple(description='Locations', index=(71,), options=(' Azerbaijan', 'Afghanista…"
      ]
     },
     "metadata": {},
     "output_type": "display_data"
    },
    {
     "data": {
      "text/plain": [
       "<function __main__.<lambda>(Location)>"
      ]
     },
     "execution_count": 333,
     "metadata": {},
     "output_type": "execute_result"
    }
   ],
   "source": [
    "widgets.interact(lambda Location: predict_from_death_rate(Location),\n",
    "                 Location=picker)"
   ]
  },
  {
   "cell_type": "code",
   "execution_count": 334,
   "metadata": {},
   "outputs": [
    {
     "data": {
      "application/vnd.jupyter.widget-view+json": {
       "model_id": "f0d0647ea6e645e39d9d05133986a4ac",
       "version_major": 2,
       "version_minor": 0
      },
      "text/plain": [
       "interactive(children=(SelectMultiple(description='Locations', index=(71,), options=(' Azerbaijan', 'Afghanista…"
      ]
     },
     "metadata": {},
     "output_type": "display_data"
    },
    {
     "data": {
      "text/plain": [
       "<function __main__.<lambda>(Location)>"
      ]
     },
     "execution_count": 334,
     "metadata": {},
     "output_type": "execute_result"
    }
   ],
   "source": [
    "# Sigmoid version should be better for places that are flattening the curve or reaching saturation\n",
    "\n",
    "widgets.interact(lambda Location: predict_from_death_rate(Location, fn=sigmoid, init=sigmoid_init),\n",
    "                 Location=picker)"
   ]
  },
  {
   "cell_type": "code",
   "execution_count": null,
   "metadata": {},
   "outputs": [],
   "source": []
  }
 ],
 "metadata": {
  "kernelspec": {
   "display_name": "Python 3",
   "language": "python",
   "name": "python3"
  },
  "language_info": {
   "codemirror_mode": {
    "name": "ipython",
    "version": 3
   },
   "file_extension": ".py",
   "mimetype": "text/x-python",
   "name": "python",
   "nbconvert_exporter": "python",
   "pygments_lexer": "ipython3",
   "version": "3.7.5"
  }
 },
 "nbformat": 4,
 "nbformat_minor": 2
}
