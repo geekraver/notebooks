{
 "cells": [
  {
   "cell_type": "code",
   "execution_count": 64,
   "metadata": {},
   "outputs": [],
   "source": [
    "from datetime import date, datetime, timedelta\n",
    "import numpy as np\n",
    "import pandas as pd\n",
    "from pandas.plotting import register_matplotlib_converters\n",
    "import matplotlib.pyplot as plt \n",
    "import matplotlib.dates as dates\n",
    "import ipywidgets as widgets\n",
    "\n",
    "\n",
    "register_matplotlib_converters()\n",
    "%matplotlib inline"
   ]
  },
  {
   "cell_type": "code",
   "execution_count": 65,
   "metadata": {},
   "outputs": [],
   "source": [
    "df = None\n",
    "last = datetime.now() - timedelta(hours=1)\n",
    "\n",
    "\n",
    "def get_data():\n",
    "    \"\"\"\n",
    "    Get the latest data. Just return the cached copy\n",
    "    if less than one hour has elapsed.\n",
    "    \"\"\"\n",
    "    global last, df\n",
    "    now = datetime.now()\n",
    "    if now - last < timedelta(hours=1):\n",
    "        return df\n",
    "\n",
    "    last = now    \n",
    "    start = date(2020, 1, 22)\n",
    "    end = date.today()\n",
    "\n",
    "    df = pd.DataFrame()\n",
    "    while start <= end:\n",
    "        try:\n",
    "            df_day = pd.read_csv(f'https://raw.githubusercontent.com/CSSEGISandData/COVID-19/master/csse_covid_19_data/csse_covid_19_daily_reports/{start.month:02d}-{start.day:02d}-{start.year}.csv')\n",
    "            df_day['Date'] = start\n",
    "            df = df.append(df_day)\n",
    "        except Exception:\n",
    "            pass\n",
    "        start += timedelta(days=1)\n",
    "    \n",
    "    del df['Last Update']\n",
    "    df = df.replace({'Country/Region': {'Mainland China': 'China'}})\n",
    "    df.fillna({'Province/State': ''}, inplace=True)\n",
    "    for col in ['Confirmed', 'Deaths', 'Recovered']:\n",
    "        df.fillna({col: 0}, inplace=True)\n",
    "    return df"
   ]
  },
  {
   "cell_type": "code",
   "execution_count": 66,
   "metadata": {},
   "outputs": [
    {
     "data": {
      "text/html": [
       "<div>\n",
       "<style scoped>\n",
       "    .dataframe tbody tr th:only-of-type {\n",
       "        vertical-align: middle;\n",
       "    }\n",
       "\n",
       "    .dataframe tbody tr th {\n",
       "        vertical-align: top;\n",
       "    }\n",
       "\n",
       "    .dataframe thead th {\n",
       "        text-align: right;\n",
       "    }\n",
       "</style>\n",
       "<table border=\"1\" class=\"dataframe\">\n",
       "  <thead>\n",
       "    <tr style=\"text-align: right;\">\n",
       "      <th></th>\n",
       "      <th>Confirmed</th>\n",
       "      <th>Country/Region</th>\n",
       "      <th>Date</th>\n",
       "      <th>Deaths</th>\n",
       "      <th>Latitude</th>\n",
       "      <th>Longitude</th>\n",
       "      <th>Province/State</th>\n",
       "      <th>Recovered</th>\n",
       "    </tr>\n",
       "  </thead>\n",
       "  <tbody>\n",
       "    <tr>\n",
       "      <th>279</th>\n",
       "      <td>0.0</td>\n",
       "      <td>Guernsey</td>\n",
       "      <td>2020-03-18</td>\n",
       "      <td>0.0</td>\n",
       "      <td>49.4500</td>\n",
       "      <td>-2.580</td>\n",
       "      <td></td>\n",
       "      <td>0.0</td>\n",
       "    </tr>\n",
       "    <tr>\n",
       "      <th>280</th>\n",
       "      <td>0.0</td>\n",
       "      <td>Jersey</td>\n",
       "      <td>2020-03-18</td>\n",
       "      <td>0.0</td>\n",
       "      <td>49.1900</td>\n",
       "      <td>-2.110</td>\n",
       "      <td></td>\n",
       "      <td>0.0</td>\n",
       "    </tr>\n",
       "    <tr>\n",
       "      <th>281</th>\n",
       "      <td>0.0</td>\n",
       "      <td>Puerto Rico</td>\n",
       "      <td>2020-03-18</td>\n",
       "      <td>0.0</td>\n",
       "      <td>18.2000</td>\n",
       "      <td>-66.500</td>\n",
       "      <td></td>\n",
       "      <td>0.0</td>\n",
       "    </tr>\n",
       "    <tr>\n",
       "      <th>282</th>\n",
       "      <td>0.0</td>\n",
       "      <td>Republic of the Congo</td>\n",
       "      <td>2020-03-18</td>\n",
       "      <td>0.0</td>\n",
       "      <td>-1.4400</td>\n",
       "      <td>15.556</td>\n",
       "      <td></td>\n",
       "      <td>0.0</td>\n",
       "    </tr>\n",
       "    <tr>\n",
       "      <th>283</th>\n",
       "      <td>0.0</td>\n",
       "      <td>The Gambia</td>\n",
       "      <td>2020-03-18</td>\n",
       "      <td>0.0</td>\n",
       "      <td>13.4667</td>\n",
       "      <td>-16.600</td>\n",
       "      <td></td>\n",
       "      <td>0.0</td>\n",
       "    </tr>\n",
       "  </tbody>\n",
       "</table>\n",
       "</div>"
      ],
      "text/plain": [
       "     Confirmed         Country/Region        Date  Deaths  Latitude  \\\n",
       "279        0.0               Guernsey  2020-03-18     0.0   49.4500   \n",
       "280        0.0                 Jersey  2020-03-18     0.0   49.1900   \n",
       "281        0.0            Puerto Rico  2020-03-18     0.0   18.2000   \n",
       "282        0.0  Republic of the Congo  2020-03-18     0.0   -1.4400   \n",
       "283        0.0             The Gambia  2020-03-18     0.0   13.4667   \n",
       "\n",
       "     Longitude Province/State  Recovered  \n",
       "279     -2.580                       0.0  \n",
       "280     -2.110                       0.0  \n",
       "281    -66.500                       0.0  \n",
       "282     15.556                       0.0  \n",
       "283    -16.600                       0.0  "
      ]
     },
     "execution_count": 66,
     "metadata": {},
     "output_type": "execute_result"
    }
   ],
   "source": [
    "df = get_data()\n",
    "df.tail(5)"
   ]
  },
  {
   "cell_type": "code",
   "execution_count": 89,
   "metadata": {},
   "outputs": [],
   "source": [
    "def aggregate_for_locations(df, locations, sub_loc=None, do_diffs=True, fields=None):\n",
    "    if fields is None:\n",
    "        fields = ['Confirmed', 'Deaths', 'Recovered']\n",
    "    cols = ['Date']\n",
    "    cols.extend(fields)\n",
    "    \n",
    "    if isinstance(locations, str):\n",
    "        locations = [locations]\n",
    "        \n",
    "    if sub_loc:\n",
    "        in_loc = df[(df['Country/Region'].isin(locations)) & (df['Province/State'] == sub_loc)]\n",
    "    else:\n",
    "        in_loc = df[df['Country/Region'].isin(locations)]\n",
    "        \n",
    "    result = in_loc[cols].groupby('Date').sum()\n",
    "    \n",
    "    if do_diffs:\n",
    "        for f in fields:\n",
    "            result[f] = result[f].diff()\n",
    "            result.fillna({f: 0}, inplace=True)\n",
    "    return result\n"
   ]
  },
  {
   "cell_type": "code",
   "execution_count": 68,
   "metadata": {},
   "outputs": [],
   "source": [
    "def plot_time_series(df, title):\n",
    "    fig, ax = plt.subplots()\n",
    "    ax.plot_date(df.index, df, 'v-')\n",
    "    ax.xaxis.set_minor_locator(dates.WeekdayLocator(byweekday=(1), interval=1))\n",
    "    ax.xaxis.set_minor_formatter(dates.DateFormatter('%d\\n%a'))\n",
    "    ax.xaxis.grid(True, which=\"minor\")\n",
    "    ax.yaxis.grid()\n",
    "    ax.xaxis.set_major_locator(dates.MonthLocator())\n",
    "    ax.xaxis.set_major_formatter(dates.DateFormatter('\\n\\n\\n%b\\n%Y'))\n",
    "    ax.legend(df.columns, loc='upper left', shadow=True)\n",
    "    ax.set_title(title)\n",
    "    plt.tight_layout()\n",
    "    return plt"
   ]
  },
  {
   "cell_type": "code",
   "execution_count": 69,
   "metadata": {},
   "outputs": [],
   "source": [
    "locations = sorted(list(df['Country/Region'].unique()))"
   ]
  },
  {
   "cell_type": "code",
   "execution_count": 70,
   "metadata": {},
   "outputs": [],
   "source": [
    "picker = widgets.SelectMultiple(\n",
    "                        options=locations,\n",
    "                        value=['US'],\n",
    "                        description='Locations'\n",
    "                )"
   ]
  },
  {
   "cell_type": "code",
   "execution_count": 94,
   "metadata": {},
   "outputs": [
    {
     "data": {
      "application/vnd.jupyter.widget-view+json": {
       "model_id": "d1f1d71a338c4a378915e6e7450ab248",
       "version_major": 2,
       "version_minor": 0
      },
      "text/plain": [
       "interactive(children=(SelectMultiple(description='Locations', index=(181,), options=(' Azerbaijan', 'Afghanist…"
      ]
     },
     "metadata": {},
     "output_type": "display_data"
    },
    {
     "data": {
      "text/plain": [
       "<function __main__.<lambda>(Location)>"
      ]
     },
     "execution_count": 94,
     "metadata": {},
     "output_type": "execute_result"
    }
   ],
   "source": [
    "widgets.interact(lambda Location: plot_time_series(aggregate_for_locations(df, Location, do_diffs=False), \n",
    "                                                   title=f'{Location[0]}: Cumulative'),\n",
    "                 Location=picker)"
   ]
  },
  {
   "cell_type": "code",
   "execution_count": 72,
   "metadata": {},
   "outputs": [
    {
     "data": {
      "application/vnd.jupyter.widget-view+json": {
       "model_id": "773def3706c94eb7a3ead1334bec575c",
       "version_major": 2,
       "version_minor": 0
      },
      "text/plain": [
       "interactive(children=(SelectMultiple(description='Locations', index=(181,), options=(' Azerbaijan', 'Afghanist…"
      ]
     },
     "metadata": {},
     "output_type": "display_data"
    },
    {
     "data": {
      "text/plain": [
       "<function __main__.<lambda>(Location)>"
      ]
     },
     "execution_count": 72,
     "metadata": {},
     "output_type": "execute_result"
    }
   ],
   "source": [
    "widgets.interact(lambda Location: plot_time_series(aggregate_for_locations(df, Location), title='New'),\n",
    "                 Location=picker)"
   ]
  },
  {
   "cell_type": "code",
   "execution_count": 91,
   "metadata": {},
   "outputs": [
    {
     "data": {
      "text/plain": [
       "<module 'matplotlib.pyplot' from '/Users/grwheele/.pyenv/versions/3.7.5/envs/default/lib/python3.7/site-packages/matplotlib/pyplot.py'>"
      ]
     },
     "execution_count": 91,
     "metadata": {},
     "output_type": "execute_result"
    },
    {
     "data": {
      "image/png": "[encoded data removed]",
      "text/plain": [
       "<Figure size 432x288 with 1 Axes>"
      ]
     },
     "metadata": {
      "needs_background": "light"
     },
     "output_type": "display_data"
    }
   ],
   "source": [
    "plot_time_series(aggregate_for_locations(df, 'US', sub_loc='Washington', do_diffs=False), title='Cumulative for WA')"
   ]
  },
  {
   "cell_type": "code",
   "execution_count": 92,
   "metadata": {},
   "outputs": [
    {
     "data": {
      "text/plain": [
       "<module 'matplotlib.pyplot' from '/Users/grwheele/.pyenv/versions/3.7.5/envs/default/lib/python3.7/site-packages/matplotlib/pyplot.py'>"
      ]
     },
     "execution_count": 92,
     "metadata": {},
     "output_type": "execute_result"
    },
    {
     "data": {
      "image/png": "[encoded data removed]",
      "text/plain": [
       "<Figure size 432x288 with 1 Axes>"
      ]
     },
     "metadata": {
      "needs_background": "light"
     },
     "output_type": "display_data"
    }
   ],
   "source": [
    "plot_time_series(aggregate_for_locations(df, 'US', sub_loc='New York', do_diffs=False), title='Cumulative for NY')"
   ]
  },
  {
   "cell_type": "code",
   "execution_count": null,
   "metadata": {},
   "outputs": [],
   "source": []
  }
 ],
 "metadata": {
  "kernelspec": {
   "display_name": "Python 3",
   "language": "python",
   "name": "python3"
  },
  "language_info": {
   "codemirror_mode": {
    "name": "ipython",
    "version": 3
   },
   "file_extension": ".py",
   "mimetype": "text/x-python",
   "name": "python",
   "nbconvert_exporter": "python",
   "pygments_lexer": "ipython3",
   "version": "3.7.5"
  }
 },
 "nbformat": 4,
 "nbformat_minor": 2
}
